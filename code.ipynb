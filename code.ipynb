{
 "cells": [
  {
   "cell_type": "code",
   "execution_count": 1,
   "metadata": {},
   "outputs": [],
   "source": [
    "import numpy as np\n",
    "import networkx as nx\n",
    "import pandas as pd\n",
    "import scipy as sc\n",
    "import matplotlib.pyplot as plt\n",
    "import seaborn as sns\n",
    "import os\n",
    "from pathlib import Path\n",
    "from hcga.io import save_dataset\n",
    "from hcga.graph import Graph, GraphCollection\n",
    "\n",
    "if not Path(\"datasets\").exists():\n",
    "    os.mkdir(\"datasets\")\n",
    "if not Path(\"results\").exists():\n",
    "    os.mkdir(\"results\")\n"
   ]
  },
  {
   "cell_type": "markdown",
   "metadata": {},
   "source": [
    "# Generate labelled random graphs"
   ]
  },
  {
   "cell_type": "code",
   "execution_count": 2,
   "metadata": {},
   "outputs": [],
   "source": [
    "# defining number of nodes\n",
    "n = 100\n",
    "\n",
    "# number of graphs\n",
    "num_g = 50\n",
    "\n",
    "# number of node features\n",
    "n_nf = 3\n",
    "\n",
    "# empty list of graphs and labels\n",
    "graphs = []\n",
    "labels = []\n",
    "node_features = []\n",
    "\n",
    "# setting probability of edge existing for random graphs\n",
    "p = 0.6\n",
    "\n",
    "# setting number of edges to add per node\n",
    "m = 4"
   ]
  },
  {
   "cell_type": "code",
   "execution_count": 3,
   "metadata": {},
   "outputs": [],
   "source": [
    "# adding 50 random graphs (label 0)\n",
    "for i in range(num_g):\n",
    "    \n",
    "    g = nx.fast_gnp_random_graph(n, p)\n",
    "    node_feat_matrix = np.random.random((n, n_nf))\n",
    "\n",
    "    graphs.append(g)\n",
    "    node_features.append(node_feat_matrix)\n",
    "\n",
    "    labels.append(0)"
   ]
  },
  {
   "cell_type": "code",
   "execution_count": 4,
   "metadata": {},
   "outputs": [],
   "source": [
    "# adding 50 powerlaw cluster graphs (label 1)\n",
    "for i in range(num_g):\n",
    "    \n",
    "    g = nx.powerlaw_cluster_graph(n, m, p)\n",
    "    node_feat_matrix = np.random.random((n, n_nf))\n",
    "\n",
    "    graphs.append(g)\n",
    "    node_features.append(node_feat_matrix)\n",
    "\n",
    "    labels.append(1)"
   ]
  },
  {
   "cell_type": "code",
   "execution_count": 5,
   "metadata": {},
   "outputs": [],
   "source": [
    "# adding 50 watts strogatz graphs (label 2)\n",
    "for i in range(num_g):\n",
    "    \n",
    "    g = nx.watts_strogatz_graph(n, m, p)\n",
    "    node_feat_matrix = np.random.random((n, n_nf))\n",
    "\n",
    "    graphs.append(g)\n",
    "    node_features.append(node_feat_matrix)\n",
    "\n",
    "    labels.append(2)"
   ]
  },
  {
   "cell_type": "code",
   "execution_count": 6,
   "metadata": {},
   "outputs": [],
   "source": [
    "# create graph collection object\n",
    "g_c = GraphCollection()\n",
    "\n",
    "# add graphs, node features and labels to the object\n",
    "g_c.add_graph_list(graphs, node_features, labels)"
   ]
  },
  {
   "cell_type": "code",
   "execution_count": 7,
   "metadata": {},
   "outputs": [
    {
     "name": "stdout",
     "output_type": "stream",
     "text": [
      "There are 150 graphs\n",
      "There are 3 features per node\n"
     ]
    }
   ],
   "source": [
    "# perform some sanity checks\n",
    "\n",
    "print(\"There are {} graphs\".format(len(g_c.graphs)))\n",
    "print(\"There are {} features per node\".format(g_c.get_n_node_features()))"
   ]
  },
  {
   "cell_type": "code",
   "execution_count": 8,
   "metadata": {},
   "outputs": [],
   "source": [
    "# we can save this if we want to and run everything from the command line\n",
    "\n",
    "save_dataset(\n",
    "    g_c,\n",
    "    \"labelled_graph_dataset\",\n",
    "    folder=\"./datasets/labelled_graph\",\n",
    ")"
   ]
  },
  {
   "cell_type": "markdown",
   "metadata": {},
   "source": [
    "## Extracting features and generate feature matrix"
   ]
  },
  {
   "cell_type": "code",
   "execution_count": 9,
   "metadata": {},
   "outputs": [],
   "source": [
    "# import hcga object\n",
    "from hcga.hcga import Hcga\n",
    "\n",
    "# define an object\n",
    "h = Hcga()"
   ]
  },
  {
   "cell_type": "code",
   "execution_count": 10,
   "metadata": {},
   "outputs": [],
   "source": [
    "# load previously saved dataset\n",
    "h.load_data(\n",
    "    \"./datasets/labelled_graph/labelled_graph_dataset.pkl\"\n",
    ")"
   ]
  },
  {
   "cell_type": "code",
   "execution_count": 11,
   "metadata": {},
   "outputs": [
    {
     "name": "stderr",
     "output_type": "stream",
     "text": [
      "INFO:hcga.extraction:Setting up feature classes...\n",
      "100%|██████████| 43/43 [00:04<00:00,  9.28it/s]\n",
      "INFO:hcga.extraction:Extracting features from 150 graphs (we disabled 0 graphs).\n",
      "INFO:hcga.extraction:Computing features for 150 graphs:\n",
      "100%|██████████| 150/150 [10:22<00:00,  4.15s/it]\n",
      "INFO:hcga.extraction:1264 feature extracted.\n"
     ]
    }
   ],
   "source": [
    "# extracting all features here\n",
    "h.extract(mode=\"fast\", n_workers=4, timeout=5)\n",
    "\n",
    "# saving all features into a pickle\n",
    "h.save_features(\"./results/labelled_graph/features.pkl\")"
   ]
  },
  {
   "cell_type": "markdown",
   "metadata": {},
   "source": [
    "## Classification and analysis"
   ]
  },
  {
   "cell_type": "code",
   "execution_count": 12,
   "metadata": {},
   "outputs": [],
   "source": [
    "# load the saved features\n",
    "\n",
    "h.load_features(\"./results/labelled_graph/features.pkl\")"
   ]
  },
  {
   "cell_type": "code",
   "execution_count": 13,
   "metadata": {},
   "outputs": [
    {
     "name": "stderr",
     "output_type": "stream",
     "text": [
      "INFO:hcga.analysis:1264 total features\n",
      "INFO:hcga.analysis:0 graphs were removed for more than 0.3 fraction of bad features\n",
      "INFO:hcga.analysis:955 valid features\n",
      "INFO:hcga.analysis:955 with interpretability 1\n",
      "INFO:hcga.analysis:Counts of graphs/label: \n",
      "label\n",
      "0.0    50\n",
      "1.0    50\n",
      "2.0    50\n",
      "Name: count, dtype: int64\n",
      "INFO:hcga.analysis:Using 10 splits\n",
      "INFO:hcga.analysis:Fold accuracy: --- 1.0 ---\n",
      "INFO:hcga.analysis:Fold accuracy: --- 1.0 ---\n",
      "INFO:hcga.analysis:Fold accuracy: --- 1.0 ---\n",
      "INFO:hcga.analysis:Fold accuracy: --- 1.0 ---\n",
      "INFO:hcga.analysis:Fold accuracy: --- 1.0 ---\n",
      "INFO:hcga.analysis:Fold accuracy: --- 1.0 ---\n",
      "INFO:hcga.analysis:Fold accuracy: --- 1.0 ---\n",
      "INFO:hcga.analysis:Fold accuracy: --- 1.0 ---\n",
      "INFO:hcga.analysis:Fold accuracy: --- 1.0 ---\n",
      "INFO:hcga.analysis:Fold accuracy: --- 1.0 ---\n",
      "INFO:hcga.analysis:Accuracy: 1.0 +/- 0.0\n",
      "INFO:hcga.analysis:Fitting model to all data\n"
     ]
    }
   ],
   "source": [
    "# implement a classification analyse of the features\n",
    "\n",
    "from sklearn.neighbors import KNeighborsClassifier\n",
    "\n",
    "model = KNeighborsClassifier()\n",
    "h.analyse_features(\n",
    "    compute_shap=False,\n",
    "    model=model,\n",
    "    feature_file=\"./results/labelled_graph/features.pkl\",\n",
    "    results_folder=\"./results/labelled_graph\",\n",
    "    save_model = True, # save the trained model\n",
    "    plot=False,\n",
    ")"
   ]
  },
  {
   "cell_type": "code",
   "execution_count": 14,
   "metadata": {},
   "outputs": [
    {
     "name": "stderr",
     "output_type": "stream",
     "text": [
      "INFO:hcga.analysis:1264 total features\n",
      "INFO:hcga.analysis:0 graphs were removed for more than 0.3 fraction of bad features\n",
      "INFO:hcga.analysis:955 valid features\n",
      "INFO:hcga.analysis:955 with interpretability 1\n",
      "INFO:hcga.analysis:... Using Xgboost classifier ...\n",
      "  0%|          | 0/3 [00:00<?, ?it/s]INFO:hcga.analysis:Pairwise classification between classes 0.0 and 1.0\n",
      "INFO:hcga.analysis:Counts of graphs/label: \n",
      "label\n",
      "0    50\n",
      "1    50\n",
      "Name: count, dtype: int64\n",
      "INFO:hcga.analysis:Using 10 splits\n",
      "INFO:hcga.analysis:Fold accuracy: --- 1.0 ---\n",
      "INFO:hcga.analysis:Fold accuracy: --- 1.0 ---\n",
      "INFO:hcga.analysis:Fold accuracy: --- 1.0 ---\n",
      "INFO:hcga.analysis:Fold accuracy: --- 1.0 ---\n",
      "INFO:hcga.analysis:Fold accuracy: --- 1.0 ---\n",
      "INFO:hcga.analysis:Fold accuracy: --- 1.0 ---\n",
      "INFO:hcga.analysis:Fold accuracy: --- 1.0 ---\n",
      "INFO:hcga.analysis:Fold accuracy: --- 1.0 ---\n",
      "INFO:hcga.analysis:Fold accuracy: --- 1.0 ---\n",
      "INFO:hcga.analysis:Fold accuracy: --- 1.0 ---\n",
      "INFO:hcga.analysis:Accuracy: 1.0 +/- 0.0\n",
      " 33%|███▎      | 1/3 [00:04<00:09,  4.73s/it]INFO:hcga.analysis:Pairwise classification between classes 0.0 and 2.0\n",
      "INFO:hcga.analysis:Counts of graphs/label: \n",
      "label\n",
      "0    50\n",
      "1    50\n",
      "Name: count, dtype: int64\n",
      "INFO:hcga.analysis:Using 10 splits\n",
      "INFO:hcga.analysis:Fold accuracy: --- 1.0 ---\n",
      "INFO:hcga.analysis:Fold accuracy: --- 1.0 ---\n",
      "INFO:hcga.analysis:Fold accuracy: --- 1.0 ---\n",
      "INFO:hcga.analysis:Fold accuracy: --- 1.0 ---\n",
      "INFO:hcga.analysis:Fold accuracy: --- 1.0 ---\n",
      "INFO:hcga.analysis:Fold accuracy: --- 1.0 ---\n",
      "INFO:hcga.analysis:Fold accuracy: --- 1.0 ---\n",
      "INFO:hcga.analysis:Fold accuracy: --- 1.0 ---\n",
      "INFO:hcga.analysis:Fold accuracy: --- 1.0 ---\n",
      "INFO:hcga.analysis:Fold accuracy: --- 1.0 ---\n",
      "INFO:hcga.analysis:Accuracy: 1.0 +/- 0.0\n",
      " 67%|██████▋   | 2/3 [00:09<00:04,  4.89s/it]INFO:hcga.analysis:Pairwise classification between classes 1.0 and 2.0\n",
      "INFO:hcga.analysis:Counts of graphs/label: \n",
      "label\n",
      "0    50\n",
      "1    50\n",
      "Name: count, dtype: int64\n",
      "INFO:hcga.analysis:Using 10 splits\n",
      "INFO:hcga.analysis:Fold accuracy: --- 1.0 ---\n",
      "INFO:hcga.analysis:Fold accuracy: --- 1.0 ---\n",
      "INFO:hcga.analysis:Fold accuracy: --- 1.0 ---\n",
      "INFO:hcga.analysis:Fold accuracy: --- 1.0 ---\n",
      "INFO:hcga.analysis:Fold accuracy: --- 1.0 ---\n",
      "INFO:hcga.analysis:Fold accuracy: --- 1.0 ---\n",
      "INFO:hcga.analysis:Fold accuracy: --- 1.0 ---\n",
      "INFO:hcga.analysis:Fold accuracy: --- 1.0 ---\n",
      "INFO:hcga.analysis:Fold accuracy: --- 1.0 ---\n",
      "INFO:hcga.analysis:Fold accuracy: --- 1.0 ---\n",
      "INFO:hcga.analysis:Accuracy: 1.0 +/- 0.0\n",
      "100%|██████████| 3/3 [00:14<00:00,  4.90s/it]\n"
     ]
    }
   ],
   "source": [
    "accuracy_matrix, top_features = h.pairwise_classification(\n",
    "    feature_file=\"./results/labelled_graph/features.pkl\"\n",
    ")"
   ]
  },
  {
   "cell_type": "code",
   "execution_count": 15,
   "metadata": {},
   "outputs": [
    {
     "name": "stdout",
     "output_type": "stream",
     "text": [
      "['CM_communities_weighted_performance_N', 'CM_communities_weighted_performance_E', 'CB_degree centrality_mean', 'CM_num_communities_weighted_N', 'Cns_connectance']\n",
      "['CM_communities_weighted_performance_N', 'CM_communities_weighted_performance_E', 'CB_degree centrality_mean', 'CM_num_communities_weighted_N', 'Cns_connectance']\n",
      "['CM_communities_weighted_performance_N', 'CM_communities_weighted_performance_E', 'CB_degree centrality_mean', 'CM_num_communities_weighted_N', 'Cns_connectance']\n"
     ]
    }
   ],
   "source": [
    "# find top features pairwisely\n",
    "print(top_features[(0.0, 1.0)])\n",
    "print(top_features[(0.0, 2.0)])\n",
    "print(top_features[(1.0, 2.0)])"
   ]
  },
  {
   "cell_type": "markdown",
   "metadata": {},
   "source": [
    "# Classifying unlabelled random graphs\n",
    "Here we need to restart the kernel each time when randomly generating graphs to ensure the extract feature step run successfully."
   ]
  },
  {
   "cell_type": "markdown",
   "metadata": {},
   "source": [
    "## Generate unlabelled random graphs with same parameters"
   ]
  },
  {
   "cell_type": "code",
   "execution_count": 2,
   "metadata": {},
   "outputs": [],
   "source": [
    "# defining limits on number of nodes\n",
    "n = 100\n",
    "\n",
    "# number of graphs\n",
    "num_g = 50\n",
    "\n",
    "# number of node features\n",
    "n_nf = 3\n",
    "\n",
    "\n",
    "# empty list of graphs and labels\n",
    "graphs = []\n",
    "node_features = []\n",
    "\n",
    "\n",
    "# setting limits on probability of edge existing for random graphs\n",
    "p = 0.6\n",
    "\n",
    "# adding 50 Gnp graphs\n",
    "for i in range(num_g):\n",
    "\n",
    "    g = nx.fast_gnp_random_graph(n, p)\n",
    "    g.label = 0\n",
    "\n",
    "    node_feat_matrix = np.random.random((n, n_nf))\n",
    "\n",
    "    graphs.append(g)\n",
    "\n",
    "    node_features.append(node_feat_matrix)\n",
    "\n",
    "\n",
    "# setting limits on number of edges to add per node\n",
    "m = 4\n",
    "\n",
    "# adding 50 powerlaw cluster graphs\n",
    "for i in range(num_g):\n",
    "\n",
    "    g = nx.powerlaw_cluster_graph(n, m, p)\n",
    "    g.label = 1\n",
    "\n",
    "    node_feat_matrix = np.random.random((n, n_nf))\n",
    "\n",
    "    graphs.append(g)\n",
    "    node_features.append(node_feat_matrix)\n",
    "\n",
    "\n",
    "# adding 50 watts strogatz graphs\n",
    "for i in range(num_g):\n",
    "\n",
    "    g = nx.watts_strogatz_graph(n, m, p)\n",
    "    g.label = 2\n",
    "\n",
    "    node_feat_matrix = np.random.random((n, n_nf))\n",
    "\n",
    "    graphs.append(g)\n",
    "    node_features.append(node_feat_matrix)"
   ]
  },
  {
   "cell_type": "code",
   "execution_count": 3,
   "metadata": {},
   "outputs": [
    {
     "name": "stdout",
     "output_type": "stream",
     "text": [
      "There are 15 graphs in the unlabelled dataset\n",
      "There are 3 features per node\n"
     ]
    }
   ],
   "source": [
    "# create graph collection object\n",
    "graphs_unlabelled = GraphCollection()\n",
    "graphs_unlabelled.add_graph_list(graphs, node_features)  # loaded without the labels\n",
    "\n",
    "# save the unlabelled dataset\n",
    "save_dataset(\n",
    "    graphs_unlabelled, \"unlabelled_graph_dataset\", folder=\"./datasets/unlabelled_graph\"\n",
    ")\n",
    "\n",
    "# perform some sanity checks\n",
    "print(\n",
    "    \"There are {} graphs in the unlabelled dataset\".format(\n",
    "        len(graphs_unlabelled.graphs)\n",
    "    )\n",
    ")\n",
    "print(\"There are {} features per node\".format(graphs_unlabelled.get_n_node_features()))"
   ]
  },
  {
   "cell_type": "markdown",
   "metadata": {},
   "source": [
    "### Extracting features and generate feature matrix"
   ]
  },
  {
   "cell_type": "code",
   "execution_count": 4,
   "metadata": {},
   "outputs": [],
   "source": [
    "# import hcga object\n",
    "from hcga.hcga import Hcga\n",
    "\n",
    "# define an object\n",
    "h = Hcga()"
   ]
  },
  {
   "cell_type": "code",
   "execution_count": 5,
   "metadata": {},
   "outputs": [],
   "source": [
    "# extract features for the secondary dataset with no labels\n",
    "h.load_data(\n",
    "    \"./datasets/unlabelled_graph/unlabelled_graph_dataset.pkl\"\n",
    ")"
   ]
  },
  {
   "cell_type": "code",
   "execution_count": 6,
   "metadata": {},
   "outputs": [
    {
     "name": "stderr",
     "output_type": "stream",
     "text": [
      "INFO:hcga.extraction:Setting up feature classes...\n",
      "100%|██████████| 43/43 [00:04<00:00, 10.00it/s]\n",
      "INFO:hcga.extraction:Extracting features from 15 graphs (we disabled 0 graphs).\n",
      "INFO:hcga.extraction:Computing features for 15 graphs:\n",
      "100%|██████████| 15/15 [01:33<00:00,  6.24s/it]\n",
      "INFO:hcga.extraction:1264 feature extracted.\n"
     ]
    }
   ],
   "source": [
    "# extracting all features here\n",
    "h.extract(mode=\"fast\", n_workers=4, timeout=5)\n",
    "\n",
    "# saving all features into a pickle\n",
    "h.save_features(\"./results/unlabelled_graph/features.pkl\")"
   ]
  },
  {
   "cell_type": "markdown",
   "metadata": {},
   "source": [
    "## kNN trained model"
   ]
  },
  {
   "cell_type": "markdown",
   "metadata": {},
   "source": [
    "### With graph generated above"
   ]
  },
  {
   "cell_type": "code",
   "execution_count": 7,
   "metadata": {},
   "outputs": [
    {
     "name": "stderr",
     "output_type": "stream",
     "text": [
      "INFO:hcga.analysis:1264 total features\n",
      "INFO:hcga.analysis:0 graphs were removed for more than 0.3 fraction of bad features\n",
      "INFO:hcga.analysis:954 valid features\n",
      "INFO:hcga.analysis:954 with interpretability 1\n"
     ]
    },
    {
     "ename": "ValueError",
     "evalue": "Input X contains NaN.\nKNeighborsClassifier does not accept missing values encoded as NaN natively. For supervised learning, you might want to consider sklearn.ensemble.HistGradientBoostingClassifier and Regressor which accept missing values encoded as NaNs natively. Alternatively, it is possible to preprocess the data, for instance by using an imputer transformer in a pipeline or drop samples with missing values. See https://scikit-learn.org/stable/modules/impute.html You can find a list of all estimators that handle NaN values at the following page: https://scikit-learn.org/stable/modules/impute.html#estimators-that-handle-nan-values",
     "output_type": "error",
     "traceback": [
      "\u001b[0;31m---------------------------------------------------------------------------\u001b[0m",
      "\u001b[0;31mValueError\u001b[0m                                Traceback (most recent call last)",
      "Cell \u001b[0;32mIn[7], line 1\u001b[0m\n\u001b[0;32m----> 1\u001b[0m \u001b[43mh\u001b[49m\u001b[38;5;241;43m.\u001b[39;49m\u001b[43manalyse_features\u001b[49m\u001b[43m(\u001b[49m\n\u001b[1;32m      2\u001b[0m \u001b[43m    \u001b[49m\u001b[43mplot\u001b[49m\u001b[38;5;241;43m=\u001b[39;49m\u001b[38;5;28;43;01mFalse\u001b[39;49;00m\u001b[43m,\u001b[49m\n\u001b[1;32m      3\u001b[0m \u001b[43m    \u001b[49m\u001b[43mtrained_model\u001b[49m\u001b[38;5;241;43m=\u001b[39;49m\u001b[38;5;124;43m\"\u001b[39;49m\u001b[38;5;124;43m./results/labelled_graph/fitted_model\u001b[39;49m\u001b[38;5;124;43m\"\u001b[39;49m\u001b[43m,\u001b[49m\n\u001b[1;32m      4\u001b[0m \u001b[43m    \u001b[49m\u001b[43mresults_folder\u001b[49m\u001b[38;5;241;43m=\u001b[39;49m\u001b[38;5;124;43m\"\u001b[39;49m\u001b[38;5;124;43m./results/kNN_test\u001b[39;49m\u001b[38;5;124;43m\"\u001b[39;49m\u001b[43m,\u001b[49m\n\u001b[1;32m      5\u001b[0m \u001b[43m)\u001b[49m\n",
      "File \u001b[0;32m~/group_project/hcga/hcga/hcga.py:160\u001b[0m, in \u001b[0;36mHcga.analyse_features\u001b[0;34m(self, feature_file, results_folder, graph_removal, interpretability, analysis_type, model, compute_shap, kfold, reduce_set, reduced_set_size, reduced_set_max_correlation, plot, max_feats_plot, max_feats_plot_dendrogram, n_repeats, n_splits, random_state, test_size, trained_model, save_model)\u001b[0m\n\u001b[1;32m    157\u001b[0m \u001b[38;5;28;01mif\u001b[39;00m feature_file \u001b[38;5;129;01mis\u001b[39;00m \u001b[38;5;129;01mnot\u001b[39;00m \u001b[38;5;28;01mNone\u001b[39;00m:\n\u001b[1;32m    158\u001b[0m     \u001b[38;5;28mself\u001b[39m\u001b[38;5;241m.\u001b[39mload_features(feature_file\u001b[38;5;241m=\u001b[39mfeature_file)\n\u001b[0;32m--> 160\u001b[0m \u001b[43manalysis\u001b[49m\u001b[43m(\u001b[49m\n\u001b[1;32m    161\u001b[0m \u001b[43m    \u001b[49m\u001b[38;5;28;43mself\u001b[39;49m\u001b[38;5;241;43m.\u001b[39;49m\u001b[43mfeatures\u001b[49m\u001b[43m,\u001b[49m\n\u001b[1;32m    162\u001b[0m \u001b[43m    \u001b[49m\u001b[38;5;28;43mself\u001b[39;49m\u001b[38;5;241;43m.\u001b[39;49m\u001b[43mfeatures_info\u001b[49m\u001b[43m,\u001b[49m\n\u001b[1;32m    163\u001b[0m \u001b[43m    \u001b[49m\u001b[38;5;28;43mself\u001b[39;49m\u001b[38;5;241;43m.\u001b[39;49m\u001b[43mgraphs\u001b[49m\u001b[43m,\u001b[49m\n\u001b[1;32m    164\u001b[0m \u001b[43m    \u001b[49m\u001b[43manalysis_type\u001b[49m\u001b[38;5;241;43m=\u001b[39;49m\u001b[43manalysis_type\u001b[49m\u001b[43m,\u001b[49m\n\u001b[1;32m    165\u001b[0m \u001b[43m    \u001b[49m\u001b[43mfolder\u001b[49m\u001b[38;5;241;43m=\u001b[39;49m\u001b[43mresults_folder\u001b[49m\u001b[43m,\u001b[49m\n\u001b[1;32m    166\u001b[0m \u001b[43m    \u001b[49m\u001b[43mgraph_removal\u001b[49m\u001b[38;5;241;43m=\u001b[39;49m\u001b[43mgraph_removal\u001b[49m\u001b[43m,\u001b[49m\n\u001b[1;32m    167\u001b[0m \u001b[43m    \u001b[49m\u001b[43minterpretability\u001b[49m\u001b[38;5;241;43m=\u001b[39;49m\u001b[43minterpretability\u001b[49m\u001b[43m,\u001b[49m\n\u001b[1;32m    168\u001b[0m \u001b[43m    \u001b[49m\u001b[43mmodel\u001b[49m\u001b[38;5;241;43m=\u001b[39;49m\u001b[43mmodel\u001b[49m\u001b[43m,\u001b[49m\n\u001b[1;32m    169\u001b[0m \u001b[43m    \u001b[49m\u001b[43mcompute_shap\u001b[49m\u001b[38;5;241;43m=\u001b[39;49m\u001b[43mcompute_shap\u001b[49m\u001b[43m,\u001b[49m\n\u001b[1;32m    170\u001b[0m \u001b[43m    \u001b[49m\u001b[43mkfold\u001b[49m\u001b[38;5;241;43m=\u001b[39;49m\u001b[43mkfold\u001b[49m\u001b[43m,\u001b[49m\n\u001b[1;32m    171\u001b[0m \u001b[43m    \u001b[49m\u001b[43mreduce_set\u001b[49m\u001b[38;5;241;43m=\u001b[39;49m\u001b[43mreduce_set\u001b[49m\u001b[43m,\u001b[49m\n\u001b[1;32m    172\u001b[0m \u001b[43m    \u001b[49m\u001b[43mreduced_set_size\u001b[49m\u001b[38;5;241;43m=\u001b[39;49m\u001b[43mreduced_set_size\u001b[49m\u001b[43m,\u001b[49m\n\u001b[1;32m    173\u001b[0m \u001b[43m    \u001b[49m\u001b[43mreduced_set_max_correlation\u001b[49m\u001b[38;5;241;43m=\u001b[39;49m\u001b[43mreduced_set_max_correlation\u001b[49m\u001b[43m,\u001b[49m\n\u001b[1;32m    174\u001b[0m \u001b[43m    \u001b[49m\u001b[43mplot\u001b[49m\u001b[38;5;241;43m=\u001b[39;49m\u001b[43mplot\u001b[49m\u001b[43m,\u001b[49m\n\u001b[1;32m    175\u001b[0m \u001b[43m    \u001b[49m\u001b[43mmax_feats_plot\u001b[49m\u001b[38;5;241;43m=\u001b[39;49m\u001b[43mmax_feats_plot\u001b[49m\u001b[43m,\u001b[49m\n\u001b[1;32m    176\u001b[0m \u001b[43m    \u001b[49m\u001b[43mmax_feats_plot_dendrogram\u001b[49m\u001b[38;5;241;43m=\u001b[39;49m\u001b[43mmax_feats_plot_dendrogram\u001b[49m\u001b[43m,\u001b[49m\n\u001b[1;32m    177\u001b[0m \u001b[43m    \u001b[49m\u001b[43mn_repeats\u001b[49m\u001b[38;5;241;43m=\u001b[39;49m\u001b[43mn_repeats\u001b[49m\u001b[43m,\u001b[49m\n\u001b[1;32m    178\u001b[0m \u001b[43m    \u001b[49m\u001b[43mn_splits\u001b[49m\u001b[38;5;241;43m=\u001b[39;49m\u001b[43mn_splits\u001b[49m\u001b[43m,\u001b[49m\n\u001b[1;32m    179\u001b[0m \u001b[43m    \u001b[49m\u001b[43mrandom_state\u001b[49m\u001b[38;5;241;43m=\u001b[39;49m\u001b[43mrandom_state\u001b[49m\u001b[43m,\u001b[49m\n\u001b[1;32m    180\u001b[0m \u001b[43m    \u001b[49m\u001b[43mtest_size\u001b[49m\u001b[38;5;241;43m=\u001b[39;49m\u001b[43mtest_size\u001b[49m\u001b[43m,\u001b[49m\n\u001b[1;32m    181\u001b[0m \u001b[43m    \u001b[49m\u001b[43mtrained_model\u001b[49m\u001b[38;5;241;43m=\u001b[39;49m\u001b[43mtrained_model\u001b[49m\u001b[43m,\u001b[49m\n\u001b[1;32m    182\u001b[0m \u001b[43m    \u001b[49m\u001b[43msave_model\u001b[49m\u001b[38;5;241;43m=\u001b[39;49m\u001b[43msave_model\u001b[49m\u001b[43m,\u001b[49m\n\u001b[1;32m    183\u001b[0m \u001b[43m\u001b[49m\u001b[43m)\u001b[49m\n",
      "File \u001b[0;32m~/group_project/hcga/hcga/analysis.py:534\u001b[0m, in \u001b[0;36manalysis\u001b[0;34m(features, features_info, graphs, analysis_type, folder, graph_removal, interpretability, model, compute_shap, kfold, reduce_set, reduced_set_size, reduced_set_max_correlation, plot, max_feats_plot, max_feats_plot_dendrogram, n_repeats, n_splits, random_state, test_size, trained_model, save_model)\u001b[0m\n\u001b[1;32m    531\u001b[0m     os\u001b[38;5;241m.\u001b[39mmkdir(folder)\n\u001b[1;32m    533\u001b[0m \u001b[38;5;28;01mif\u001b[39;00m trained_model \u001b[38;5;129;01mis\u001b[39;00m \u001b[38;5;129;01mnot\u001b[39;00m \u001b[38;5;28;01mNone\u001b[39;00m:\n\u001b[0;32m--> 534\u001b[0m     y_predictions \u001b[38;5;241m=\u001b[39m \u001b[43mpredict_unlabelled\u001b[49m\u001b[43m(\u001b[49m\u001b[43mmodel\u001b[49m\u001b[43m,\u001b[49m\u001b[43m \u001b[49m\u001b[43mfeatures\u001b[49m\u001b[43m)\u001b[49m\n\u001b[1;32m    535\u001b[0m     _save_predictions_to_csv(features, y_predictions, folder\u001b[38;5;241m=\u001b[39mfolder)\n\u001b[1;32m    536\u001b[0m     \u001b[38;5;28;01mreturn\u001b[39;00m y_predictions\n",
      "File \u001b[0;32m~/group_project/hcga/hcga/analysis.py:459\u001b[0m, in \u001b[0;36mpredict_unlabelled\u001b[0;34m(model, features)\u001b[0m\n\u001b[1;32m    457\u001b[0m \u001b[38;5;250m\u001b[39m\u001b[38;5;124;03m\"\"\"Predict unlabelled data.\"\"\"\u001b[39;00m\n\u001b[1;32m    458\u001b[0m X, _ \u001b[38;5;241m=\u001b[39m features_to_Xy(features)\n\u001b[0;32m--> 459\u001b[0m \u001b[38;5;28;01mreturn\u001b[39;00m \u001b[43mmodel\u001b[49m\u001b[38;5;241;43m.\u001b[39;49m\u001b[43mpredict\u001b[49m\u001b[43m(\u001b[49m\u001b[43mX\u001b[49m\u001b[43m)\u001b[49m\n",
      "File \u001b[0;32m~/group_project/PoP_venv/lib/python3.9/site-packages/sklearn/neighbors/_classification.py:271\u001b[0m, in \u001b[0;36mKNeighborsClassifier.predict\u001b[0;34m(self, X)\u001b[0m\n\u001b[1;32m    268\u001b[0m         \u001b[38;5;28;01mreturn\u001b[39;00m \u001b[38;5;28mself\u001b[39m\u001b[38;5;241m.\u001b[39mclasses_[np\u001b[38;5;241m.\u001b[39margmax(probabilities, axis\u001b[38;5;241m=\u001b[39m\u001b[38;5;241m1\u001b[39m)]\n\u001b[1;32m    269\u001b[0m     \u001b[38;5;66;03m# In that case, we do not need the distances to perform\u001b[39;00m\n\u001b[1;32m    270\u001b[0m     \u001b[38;5;66;03m# the weighting so we do not compute them.\u001b[39;00m\n\u001b[0;32m--> 271\u001b[0m     neigh_ind \u001b[38;5;241m=\u001b[39m \u001b[38;5;28;43mself\u001b[39;49m\u001b[38;5;241;43m.\u001b[39;49m\u001b[43mkneighbors\u001b[49m\u001b[43m(\u001b[49m\u001b[43mX\u001b[49m\u001b[43m,\u001b[49m\u001b[43m \u001b[49m\u001b[43mreturn_distance\u001b[49m\u001b[38;5;241;43m=\u001b[39;49m\u001b[38;5;28;43;01mFalse\u001b[39;49;00m\u001b[43m)\u001b[49m\n\u001b[1;32m    272\u001b[0m     neigh_dist \u001b[38;5;241m=\u001b[39m \u001b[38;5;28;01mNone\u001b[39;00m\n\u001b[1;32m    273\u001b[0m \u001b[38;5;28;01melse\u001b[39;00m:\n",
      "File \u001b[0;32m~/group_project/PoP_venv/lib/python3.9/site-packages/sklearn/neighbors/_base.py:825\u001b[0m, in \u001b[0;36mKNeighborsMixin.kneighbors\u001b[0;34m(self, X, n_neighbors, return_distance)\u001b[0m\n\u001b[1;32m    823\u001b[0m         X \u001b[38;5;241m=\u001b[39m _check_precomputed(X)\n\u001b[1;32m    824\u001b[0m     \u001b[38;5;28;01melse\u001b[39;00m:\n\u001b[0;32m--> 825\u001b[0m         X \u001b[38;5;241m=\u001b[39m \u001b[38;5;28;43mself\u001b[39;49m\u001b[38;5;241;43m.\u001b[39;49m\u001b[43m_validate_data\u001b[49m\u001b[43m(\u001b[49m\u001b[43mX\u001b[49m\u001b[43m,\u001b[49m\u001b[43m \u001b[49m\u001b[43maccept_sparse\u001b[49m\u001b[38;5;241;43m=\u001b[39;49m\u001b[38;5;124;43m\"\u001b[39;49m\u001b[38;5;124;43mcsr\u001b[39;49m\u001b[38;5;124;43m\"\u001b[39;49m\u001b[43m,\u001b[49m\u001b[43m \u001b[49m\u001b[43mreset\u001b[49m\u001b[38;5;241;43m=\u001b[39;49m\u001b[38;5;28;43;01mFalse\u001b[39;49;00m\u001b[43m,\u001b[49m\u001b[43m \u001b[49m\u001b[43morder\u001b[49m\u001b[38;5;241;43m=\u001b[39;49m\u001b[38;5;124;43m\"\u001b[39;49m\u001b[38;5;124;43mC\u001b[39;49m\u001b[38;5;124;43m\"\u001b[39;49m\u001b[43m)\u001b[49m\n\u001b[1;32m    827\u001b[0m n_samples_fit \u001b[38;5;241m=\u001b[39m \u001b[38;5;28mself\u001b[39m\u001b[38;5;241m.\u001b[39mn_samples_fit_\n\u001b[1;32m    828\u001b[0m \u001b[38;5;28;01mif\u001b[39;00m n_neighbors \u001b[38;5;241m>\u001b[39m n_samples_fit:\n",
      "File \u001b[0;32m~/group_project/PoP_venv/lib/python3.9/site-packages/sklearn/base.py:633\u001b[0m, in \u001b[0;36mBaseEstimator._validate_data\u001b[0;34m(self, X, y, reset, validate_separately, cast_to_ndarray, **check_params)\u001b[0m\n\u001b[1;32m    631\u001b[0m         out \u001b[38;5;241m=\u001b[39m X, y\n\u001b[1;32m    632\u001b[0m \u001b[38;5;28;01melif\u001b[39;00m \u001b[38;5;129;01mnot\u001b[39;00m no_val_X \u001b[38;5;129;01mand\u001b[39;00m no_val_y:\n\u001b[0;32m--> 633\u001b[0m     out \u001b[38;5;241m=\u001b[39m \u001b[43mcheck_array\u001b[49m\u001b[43m(\u001b[49m\u001b[43mX\u001b[49m\u001b[43m,\u001b[49m\u001b[43m \u001b[49m\u001b[43minput_name\u001b[49m\u001b[38;5;241;43m=\u001b[39;49m\u001b[38;5;124;43m\"\u001b[39;49m\u001b[38;5;124;43mX\u001b[39;49m\u001b[38;5;124;43m\"\u001b[39;49m\u001b[43m,\u001b[49m\u001b[43m \u001b[49m\u001b[38;5;241;43m*\u001b[39;49m\u001b[38;5;241;43m*\u001b[39;49m\u001b[43mcheck_params\u001b[49m\u001b[43m)\u001b[49m\n\u001b[1;32m    634\u001b[0m \u001b[38;5;28;01melif\u001b[39;00m no_val_X \u001b[38;5;129;01mand\u001b[39;00m \u001b[38;5;129;01mnot\u001b[39;00m no_val_y:\n\u001b[1;32m    635\u001b[0m     out \u001b[38;5;241m=\u001b[39m _check_y(y, \u001b[38;5;241m*\u001b[39m\u001b[38;5;241m*\u001b[39mcheck_params)\n",
      "File \u001b[0;32m~/group_project/PoP_venv/lib/python3.9/site-packages/sklearn/utils/validation.py:1059\u001b[0m, in \u001b[0;36mcheck_array\u001b[0;34m(array, accept_sparse, accept_large_sparse, dtype, order, copy, force_all_finite, ensure_2d, allow_nd, ensure_min_samples, ensure_min_features, estimator, input_name)\u001b[0m\n\u001b[1;32m   1053\u001b[0m     \u001b[38;5;28;01mraise\u001b[39;00m \u001b[38;5;167;01mValueError\u001b[39;00m(\n\u001b[1;32m   1054\u001b[0m         \u001b[38;5;124m\"\u001b[39m\u001b[38;5;124mFound array with dim \u001b[39m\u001b[38;5;132;01m%d\u001b[39;00m\u001b[38;5;124m. \u001b[39m\u001b[38;5;132;01m%s\u001b[39;00m\u001b[38;5;124m expected <= 2.\u001b[39m\u001b[38;5;124m\"\u001b[39m\n\u001b[1;32m   1055\u001b[0m         \u001b[38;5;241m%\u001b[39m (array\u001b[38;5;241m.\u001b[39mndim, estimator_name)\n\u001b[1;32m   1056\u001b[0m     )\n\u001b[1;32m   1058\u001b[0m \u001b[38;5;28;01mif\u001b[39;00m force_all_finite:\n\u001b[0;32m-> 1059\u001b[0m     \u001b[43m_assert_all_finite\u001b[49m\u001b[43m(\u001b[49m\n\u001b[1;32m   1060\u001b[0m \u001b[43m        \u001b[49m\u001b[43marray\u001b[49m\u001b[43m,\u001b[49m\n\u001b[1;32m   1061\u001b[0m \u001b[43m        \u001b[49m\u001b[43minput_name\u001b[49m\u001b[38;5;241;43m=\u001b[39;49m\u001b[43minput_name\u001b[49m\u001b[43m,\u001b[49m\n\u001b[1;32m   1062\u001b[0m \u001b[43m        \u001b[49m\u001b[43mestimator_name\u001b[49m\u001b[38;5;241;43m=\u001b[39;49m\u001b[43mestimator_name\u001b[49m\u001b[43m,\u001b[49m\n\u001b[1;32m   1063\u001b[0m \u001b[43m        \u001b[49m\u001b[43mallow_nan\u001b[49m\u001b[38;5;241;43m=\u001b[39;49m\u001b[43mforce_all_finite\u001b[49m\u001b[43m \u001b[49m\u001b[38;5;241;43m==\u001b[39;49m\u001b[43m \u001b[49m\u001b[38;5;124;43m\"\u001b[39;49m\u001b[38;5;124;43mallow-nan\u001b[39;49m\u001b[38;5;124;43m\"\u001b[39;49m\u001b[43m,\u001b[49m\n\u001b[1;32m   1064\u001b[0m \u001b[43m    \u001b[49m\u001b[43m)\u001b[49m\n\u001b[1;32m   1066\u001b[0m \u001b[38;5;28;01mif\u001b[39;00m copy:\n\u001b[1;32m   1067\u001b[0m     \u001b[38;5;28;01mif\u001b[39;00m _is_numpy_namespace(xp):\n\u001b[1;32m   1068\u001b[0m         \u001b[38;5;66;03m# only make a copy if `array` and `array_orig` may share memory`\u001b[39;00m\n",
      "File \u001b[0;32m~/group_project/PoP_venv/lib/python3.9/site-packages/sklearn/utils/validation.py:126\u001b[0m, in \u001b[0;36m_assert_all_finite\u001b[0;34m(X, allow_nan, msg_dtype, estimator_name, input_name)\u001b[0m\n\u001b[1;32m    123\u001b[0m \u001b[38;5;28;01mif\u001b[39;00m first_pass_isfinite:\n\u001b[1;32m    124\u001b[0m     \u001b[38;5;28;01mreturn\u001b[39;00m\n\u001b[0;32m--> 126\u001b[0m \u001b[43m_assert_all_finite_element_wise\u001b[49m\u001b[43m(\u001b[49m\n\u001b[1;32m    127\u001b[0m \u001b[43m    \u001b[49m\u001b[43mX\u001b[49m\u001b[43m,\u001b[49m\n\u001b[1;32m    128\u001b[0m \u001b[43m    \u001b[49m\u001b[43mxp\u001b[49m\u001b[38;5;241;43m=\u001b[39;49m\u001b[43mxp\u001b[49m\u001b[43m,\u001b[49m\n\u001b[1;32m    129\u001b[0m \u001b[43m    \u001b[49m\u001b[43mallow_nan\u001b[49m\u001b[38;5;241;43m=\u001b[39;49m\u001b[43mallow_nan\u001b[49m\u001b[43m,\u001b[49m\n\u001b[1;32m    130\u001b[0m \u001b[43m    \u001b[49m\u001b[43mmsg_dtype\u001b[49m\u001b[38;5;241;43m=\u001b[39;49m\u001b[43mmsg_dtype\u001b[49m\u001b[43m,\u001b[49m\n\u001b[1;32m    131\u001b[0m \u001b[43m    \u001b[49m\u001b[43mestimator_name\u001b[49m\u001b[38;5;241;43m=\u001b[39;49m\u001b[43mestimator_name\u001b[49m\u001b[43m,\u001b[49m\n\u001b[1;32m    132\u001b[0m \u001b[43m    \u001b[49m\u001b[43minput_name\u001b[49m\u001b[38;5;241;43m=\u001b[39;49m\u001b[43minput_name\u001b[49m\u001b[43m,\u001b[49m\n\u001b[1;32m    133\u001b[0m \u001b[43m\u001b[49m\u001b[43m)\u001b[49m\n",
      "File \u001b[0;32m~/group_project/PoP_venv/lib/python3.9/site-packages/sklearn/utils/validation.py:175\u001b[0m, in \u001b[0;36m_assert_all_finite_element_wise\u001b[0;34m(X, xp, allow_nan, msg_dtype, estimator_name, input_name)\u001b[0m\n\u001b[1;32m    158\u001b[0m \u001b[38;5;28;01mif\u001b[39;00m estimator_name \u001b[38;5;129;01mand\u001b[39;00m input_name \u001b[38;5;241m==\u001b[39m \u001b[38;5;124m\"\u001b[39m\u001b[38;5;124mX\u001b[39m\u001b[38;5;124m\"\u001b[39m \u001b[38;5;129;01mand\u001b[39;00m has_nan_error:\n\u001b[1;32m    159\u001b[0m     \u001b[38;5;66;03m# Improve the error message on how to handle missing values in\u001b[39;00m\n\u001b[1;32m    160\u001b[0m     \u001b[38;5;66;03m# scikit-learn.\u001b[39;00m\n\u001b[1;32m    161\u001b[0m     msg_err \u001b[38;5;241m+\u001b[39m\u001b[38;5;241m=\u001b[39m (\n\u001b[1;32m    162\u001b[0m         \u001b[38;5;124mf\u001b[39m\u001b[38;5;124m\"\u001b[39m\u001b[38;5;130;01m\\n\u001b[39;00m\u001b[38;5;132;01m{\u001b[39;00mestimator_name\u001b[38;5;132;01m}\u001b[39;00m\u001b[38;5;124m does not accept missing values\u001b[39m\u001b[38;5;124m\"\u001b[39m\n\u001b[1;32m    163\u001b[0m         \u001b[38;5;124m\"\u001b[39m\u001b[38;5;124m encoded as NaN natively. For supervised learning, you might want\u001b[39m\u001b[38;5;124m\"\u001b[39m\n\u001b[0;32m   (...)\u001b[0m\n\u001b[1;32m    173\u001b[0m         \u001b[38;5;124m\"\u001b[39m\u001b[38;5;124m#estimators-that-handle-nan-values\u001b[39m\u001b[38;5;124m\"\u001b[39m\n\u001b[1;32m    174\u001b[0m     )\n\u001b[0;32m--> 175\u001b[0m \u001b[38;5;28;01mraise\u001b[39;00m \u001b[38;5;167;01mValueError\u001b[39;00m(msg_err)\n",
      "\u001b[0;31mValueError\u001b[0m: Input X contains NaN.\nKNeighborsClassifier does not accept missing values encoded as NaN natively. For supervised learning, you might want to consider sklearn.ensemble.HistGradientBoostingClassifier and Regressor which accept missing values encoded as NaNs natively. Alternatively, it is possible to preprocess the data, for instance by using an imputer transformer in a pipeline or drop samples with missing values. See https://scikit-learn.org/stable/modules/impute.html You can find a list of all estimators that handle NaN values at the following page: https://scikit-learn.org/stable/modules/impute.html#estimators-that-handle-nan-values"
     ]
    }
   ],
   "source": [
    "h.analyse_features(\n",
    "    plot=False,\n",
    "    trained_model=\"./results/labelled_graph/fitted_model\",\n",
    "    results_folder=\"./results/kNN_test\",\n",
    ")"
   ]
  },
  {
   "cell_type": "code",
   "execution_count": 8,
   "metadata": {},
   "outputs": [
    {
     "data": {
      "image/png": "[encoded data removed]",
      "text/plain": [
       "<Figure size 640x480 with 1 Axes>"
      ]
     },
     "metadata": {},
     "output_type": "display_data"
    }
   ],
   "source": [
    "# visualise prediction\n",
    "predictions = pd.read_csv(\"./results/kNN_test/prediction_results.csv\", index_col=0)\n",
    "\n",
    "# list of 150 graphs\n",
    "graphs = list(range(len(predictions)))\n",
    "\n",
    "# Create a dot plot\n",
    "%matplotlib inline\n",
    "plt.scatter(graphs, predictions)\n",
    "plt.xlabel('Graphs')\n",
    "plt.ylabel('Class')\n",
    "plt.title('Dot Plot of which Class the Graphs Actually Belong to')\n",
    "plt.yticks([0, 1, 2])\n",
    "plt.grid(True)\n",
    "plt.show()"
   ]
  },
  {
   "cell_type": "markdown",
   "metadata": {},
   "source": [
    "### changing the proportion of different types of graphs"
   ]
  },
  {
   "cell_type": "code",
   "execution_count": 3,
   "metadata": {},
   "outputs": [],
   "source": [
    "# defining number of nodes\n",
    "n = 100\n",
    "\n",
    "# number of node features\n",
    "n_nf = 3\n",
    "\n",
    "\n",
    "# empty list of graphs and labels\n",
    "graphs = []\n",
    "node_features = []\n",
    "\n",
    "\n",
    "# setting the probability\n",
    "p = 0.6\n",
    "\n",
    "# adding 40 Gnp graphs\n",
    "for i in range(40):\n",
    "\n",
    "    g = nx.fast_gnp_random_graph(n, p)\n",
    "    g.label = 0\n",
    "\n",
    "    node_feat_matrix = np.random.random((n, n_nf))\n",
    "\n",
    "    graphs.append(g)\n",
    "\n",
    "    node_features.append(node_feat_matrix)\n",
    "\n",
    "\n",
    "# setting limits on number of edges to add per node\n",
    "m = 4\n",
    "\n",
    "# adding 45 powerlaw cluster graphs\n",
    "for i in range(45):\n",
    "\n",
    "    g = nx.powerlaw_cluster_graph(n, m, p)\n",
    "    g.label = 1\n",
    "\n",
    "    node_feat_matrix = np.random.random((n, n_nf))\n",
    "\n",
    "    graphs.append(g)\n",
    "\n",
    "    node_features.append(node_feat_matrix)\n",
    "\n",
    "\n",
    "# adding 65 watts strogatz graphs\n",
    "for i in range(65):\n",
    "\n",
    "    g = nx.watts_strogatz_graph(n, m, p)\n",
    "    g.label = 2\n",
    "\n",
    "    node_feat_matrix = np.random.random((n, n_nf))\n",
    "\n",
    "    graphs.append(g)\n",
    "\n",
    "    node_features.append(node_feat_matrix)"
   ]
  },
  {
   "cell_type": "code",
   "execution_count": 4,
   "metadata": {},
   "outputs": [],
   "source": [
    "# create graph collection object\n",
    "graphs_changed = GraphCollection()\n",
    "graphs_changed.add_graph_list(graphs, node_features)  # loaded without the labels\n",
    "\n",
    "# save the changed dataset\n",
    "save_dataset(\n",
    "    graphs_changed, \"changed_graph_dataset1\", folder=\"./datasets/changed_graph\"\n",
    ")"
   ]
  },
  {
   "cell_type": "code",
   "execution_count": 5,
   "metadata": {},
   "outputs": [],
   "source": [
    "# import hcga object\n",
    "from hcga.hcga import Hcga\n",
    "\n",
    "# define an object\n",
    "h = Hcga()"
   ]
  },
  {
   "cell_type": "code",
   "execution_count": 6,
   "metadata": {},
   "outputs": [],
   "source": [
    "# extract features for the secondary dataset with no labels\n",
    "h.load_data(\n",
    "    \"./datasets/changed_graph/changed_graph_dataset1.pkl\"\n",
    ")"
   ]
  },
  {
   "cell_type": "code",
   "execution_count": 7,
   "metadata": {},
   "outputs": [
    {
     "name": "stderr",
     "output_type": "stream",
     "text": [
      "INFO:hcga.extraction:Setting up feature classes...\n",
      "100%|██████████| 43/43 [00:04<00:00,  9.38it/s]\n",
      "INFO:hcga.extraction:Extracting features from 150 graphs (we disabled 0 graphs).\n",
      "INFO:hcga.extraction:Computing features for 150 graphs:\n",
      "100%|██████████| 150/150 [12:24<00:00,  4.96s/it]\n",
      "INFO:hcga.extraction:1264 feature extracted.\n"
     ]
    }
   ],
   "source": [
    "# extracting all features here\n",
    "h.extract(mode=\"fast\", n_workers=4, timeout=5)\n",
    "\n",
    "# saving all features into a pickle\n",
    "h.save_features(\"./results/changed_graph/features1.pkl\")"
   ]
  },
  {
   "cell_type": "code",
   "execution_count": 8,
   "metadata": {},
   "outputs": [
    {
     "name": "stderr",
     "output_type": "stream",
     "text": [
      "INFO:hcga.analysis:1264 total features\n",
      "INFO:hcga.analysis:0 graphs were removed for more than 0.3 fraction of bad features\n",
      "INFO:hcga.analysis:954 valid features\n",
      "INFO:hcga.analysis:954 with interpretability 1\n"
     ]
    }
   ],
   "source": [
    "h.analyse_features(\n",
    "    plot=False,\n",
    "    trained_model=\"./results/labelled_graph/fitted_model\",\n",
    "    results_folder=\"./results/kNN_changed_test1\",\n",
    ")"
   ]
  },
  {
   "cell_type": "code",
   "execution_count": 9,
   "metadata": {},
   "outputs": [
    {
     "data": {
      "image/png": "[encoded data removed]",
      "text/plain": [
       "<Figure size 640x480 with 1 Axes>"
      ]
     },
     "metadata": {},
     "output_type": "display_data"
    }
   ],
   "source": [
    "# visualise prediction\n",
    "changed_predictions = pd.read_csv(\"./results/kNN_changed_test1/prediction_results.csv\", index_col=0)\n",
    "\n",
    "# list of 150 graphs\n",
    "changed_graphs = list(range(len(changed_predictions)))\n",
    "\n",
    "# Create a dot plot\n",
    "%matplotlib inline\n",
    "plt.scatter(changed_graphs, changed_predictions)\n",
    "plt.xlabel('Changed Graphs')\n",
    "plt.ylabel('Class')\n",
    "plt.title('Dot Plot of which Class the Graphs Actually Belong to')\n",
    "plt.yticks([0, 1, 2])\n",
    "plt.grid(True)\n",
    "plt.show()"
   ]
  },
  {
   "cell_type": "markdown",
   "metadata": {},
   "source": [
    "### Changing the parameters within critical value"
   ]
  },
  {
   "cell_type": "code",
   "execution_count": 2,
   "metadata": {},
   "outputs": [],
   "source": [
    "# defining limits on number of nodes\n",
    "n = 100\n",
    "\n",
    "# number of node features\n",
    "n_nf = 3\n",
    "\n",
    "\n",
    "# empty list of graphs and labels\n",
    "graphs = []\n",
    "node_features = []\n",
    "\n",
    "\n",
    "# changing probability from 0.6 to 0.4\n",
    "p = 0.4\n",
    "\n",
    "# adding 50 Gnp graphs\n",
    "for i in range(30):\n",
    "\n",
    "    g = nx.fast_gnp_random_graph(n, p)\n",
    "    g.label = 0\n",
    "\n",
    "    node_feat_matrix = np.random.random((n, n_nf))\n",
    "\n",
    "    graphs.append(g)\n",
    "\n",
    "    node_features.append(node_feat_matrix)\n",
    "\n",
    "\n",
    "# setting limits on number of edges to add per node\n",
    "m = 4\n",
    "\n",
    "# adding 50 powerlaw cluster graphs\n",
    "for i in range(50):\n",
    "\n",
    "    g = nx.powerlaw_cluster_graph(n, m, p)\n",
    "    g.label = 1\n",
    "\n",
    "    node_feat_matrix = np.random.random((n, n_nf))\n",
    "\n",
    "    graphs.append(g)\n",
    "    node_features.append(node_feat_matrix)\n",
    "\n",
    "\n",
    "# adding 50 watts strogatz graphs\n",
    "for i in range(70):\n",
    "\n",
    "    g = nx.watts_strogatz_graph(n, m, p)\n",
    "    g.label = 2\n",
    "\n",
    "    node_feat_matrix = np.random.random((n, n_nf))\n",
    "\n",
    "    graphs.append(g)\n",
    "    node_features.append(node_feat_matrix)"
   ]
  },
  {
   "cell_type": "code",
   "execution_count": 3,
   "metadata": {},
   "outputs": [],
   "source": [
    "# create graph collection object\n",
    "graphs_changed = GraphCollection()\n",
    "graphs_changed.add_graph_list(graphs, node_features)  # loaded without the labels\n",
    "\n",
    "# save the changed dataset\n",
    "save_dataset(\n",
    "    graphs_changed, \"changed_graph_dataset2\", folder=\"./datasets/changed_graph\"\n",
    ")"
   ]
  },
  {
   "cell_type": "code",
   "execution_count": 5,
   "metadata": {},
   "outputs": [],
   "source": [
    "# import hcga object\n",
    "from hcga.hcga import Hcga\n",
    "\n",
    "# define an object\n",
    "h = Hcga()"
   ]
  },
  {
   "cell_type": "code",
   "execution_count": 6,
   "metadata": {},
   "outputs": [],
   "source": [
    "# extract features for the secondary dataset with no labels\n",
    "h.load_data(\n",
    "    \"./datasets/changed_graph/changed_graph_dataset2.pkl\"\n",
    ")"
   ]
  },
  {
   "cell_type": "code",
   "execution_count": 7,
   "metadata": {},
   "outputs": [
    {
     "name": "stderr",
     "output_type": "stream",
     "text": [
      "INFO:hcga.extraction:Setting up feature classes...\n",
      "100%|██████████| 43/43 [00:04<00:00,  9.38it/s]\n",
      "INFO:hcga.extraction:Extracting features from 150 graphs (we disabled 0 graphs).\n",
      "INFO:hcga.extraction:Computing features for 150 graphs:\n",
      "100%|██████████| 150/150 [09:43<00:00,  3.89s/it]\n",
      "INFO:hcga.extraction:1264 feature extracted.\n"
     ]
    }
   ],
   "source": [
    "# extracting all features here\n",
    "h.extract(mode=\"fast\", n_workers=4, timeout=5)\n",
    "\n",
    "# saving all features into a pickle\n",
    "h.save_features(\"./results/changed_graph/features2.pkl\")"
   ]
  },
  {
   "cell_type": "code",
   "execution_count": 8,
   "metadata": {},
   "outputs": [
    {
     "name": "stderr",
     "output_type": "stream",
     "text": [
      "INFO:hcga.analysis:1264 total features\n",
      "INFO:hcga.analysis:0 graphs were removed for more than 0.3 fraction of bad features\n",
      "INFO:hcga.analysis:954 valid features\n",
      "INFO:hcga.analysis:954 with interpretability 1\n"
     ]
    }
   ],
   "source": [
    "h.analyse_features(\n",
    "    plot=False,\n",
    "    trained_model=\"./results/labelled_graph/fitted_model\",\n",
    "    results_folder=\"./results/kNN_changed_test2\",\n",
    ")"
   ]
  },
  {
   "cell_type": "code",
   "execution_count": 9,
   "metadata": {},
   "outputs": [
    {
     "data": {
      "image/png": "[encoded data removed]",
      "text/plain": [
       "<Figure size 640x480 with 1 Axes>"
      ]
     },
     "metadata": {},
     "output_type": "display_data"
    }
   ],
   "source": [
    "# visualise prediction\n",
    "changed_predictions = pd.read_csv(\"./results/kNN_changed_test2/prediction_results.csv\", index_col=0)\n",
    "\n",
    "# list of 150 graphs\n",
    "changed_graphs = list(range(len(changed_predictions)))\n",
    "\n",
    "# Create a dot plot\n",
    "%matplotlib inline\n",
    "plt.scatter(changed_graphs, changed_predictions)\n",
    "plt.xlabel('Changed Graphs')\n",
    "plt.ylabel('Class')\n",
    "plt.title('Dot Plot of which Class the Graphs Actually Belong to')\n",
    "plt.yticks([0, 1, 2])\n",
    "plt.grid(True)\n",
    "plt.show()"
   ]
  },
  {
   "cell_type": "markdown",
   "metadata": {},
   "source": [
    "### Changing the parameters greatly"
   ]
  },
  {
   "cell_type": "markdown",
   "metadata": {},
   "source": [
    "## Analyse by Hierarchical Clustering"
   ]
  },
  {
   "cell_type": "code",
   "execution_count": 9,
   "metadata": {},
   "outputs": [
    {
     "name": "stdout",
     "output_type": "stream",
     "text": [
      "[1 0 1 1 1 1 1 1 1 1 1 1 0 1 1 0 0 1 0 0 1 1 0 0 1 1 0 0 1 0 1 1 0 1 0 1 1\n",
      " 0 1 1 1 1 1 1 1 0 1 1 1 1 2 2 2 2 2 2 2 2 2 2 2 2 2 2 2 2 2 2 2 2 2 2 2 2\n",
      " 2 2 2 2 2 2 2 2 2 2 2 2 2 2 2 2 2 2 2 2 2 2 2 2 2 2 2 2 2 2 2 2 2 2 2 2 2\n",
      " 2 2 2 2 2 2 2 2 2 2 2 2 2 2 2 2 2 2 2 2 2 2 2 2 2 2 2 2 2 2 2 2 2 2 2 2 2\n",
      " 2 2]\n"
     ]
    }
   ],
   "source": [
    "# substitute None terms in feature matrix with 0\n",
    "h_dropped = h.features.fillna(0)\n",
    "\n",
    "# do Hierarchical Clustering\n",
    "from sklearn.cluster import AgglomerativeClustering\n",
    "clustering = AgglomerativeClustering(n_clusters=3).fit(h_dropped)\n",
    "\n",
    "print(clustering.labels_)"
   ]
  },
  {
   "cell_type": "code",
   "execution_count": 10,
   "metadata": {},
   "outputs": [
    {
     "data": {
      "image/png": "[encoded data removed]",
      "text/plain": [
       "<Figure size 640x480 with 1 Axes>"
      ]
     },
     "metadata": {},
     "output_type": "display_data"
    }
   ],
   "source": [
    "# visuliasation\n",
    "from scipy.cluster.hierarchy import linkage, dendrogram\n",
    "linkage_data = linkage(h_dropped)\n",
    "\n",
    "%matplotlib inline\n",
    "dendrogram(linkage_data)\n",
    "plt.show()"
   ]
  },
  {
   "cell_type": "code",
   "execution_count": 2,
   "metadata": {},
   "outputs": [
    {
     "ename": "NameError",
     "evalue": "name 'h' is not defined",
     "output_type": "error",
     "traceback": [
      "\u001b[0;31m---------------------------------------------------------------------------\u001b[0m",
      "\u001b[0;31mNameError\u001b[0m                                 Traceback (most recent call last)",
      "Cell \u001b[0;32mIn[2], line 2\u001b[0m\n\u001b[1;32m      1\u001b[0m \u001b[38;5;66;03m# select top features instead of feature matrix\u001b[39;00m\n\u001b[0;32m----> 2\u001b[0m feature1 \u001b[38;5;241m=\u001b[39m \u001b[43mh\u001b[49m\u001b[38;5;241m.\u001b[39mfeatures[(\u001b[38;5;124m'\u001b[39m\u001b[38;5;124mCM\u001b[39m\u001b[38;5;124m'\u001b[39m, \u001b[38;5;124m'\u001b[39m\u001b[38;5;124mcommunities_weighted_coverage_N\u001b[39m\u001b[38;5;124m'\u001b[39m)]\n\u001b[1;32m      3\u001b[0m feature2 \u001b[38;5;241m=\u001b[39m h\u001b[38;5;241m.\u001b[39mfeatures[(\u001b[38;5;124m'\u001b[39m\u001b[38;5;124mCM\u001b[39m\u001b[38;5;124m'\u001b[39m, \u001b[38;5;124m'\u001b[39m\u001b[38;5;124mcommunities_weighted_coverage_E\u001b[39m\u001b[38;5;124m'\u001b[39m)]\n\u001b[1;32m      4\u001b[0m feature3 \u001b[38;5;241m=\u001b[39m h\u001b[38;5;241m.\u001b[39mfeatures[(\u001b[38;5;124m'\u001b[39m\u001b[38;5;124mCM\u001b[39m\u001b[38;5;124m'\u001b[39m, \u001b[38;5;124m'\u001b[39m\u001b[38;5;124mcommunities_weighted_performance_N\u001b[39m\u001b[38;5;124m'\u001b[39m)]\n",
      "\u001b[0;31mNameError\u001b[0m: name 'h' is not defined"
     ]
    }
   ],
   "source": [
    "# select top features instead of feature matrix\n",
    "feature1 = h.features[('CM', 'communities_weighted_coverage_N')]\n",
    "feature2 = h.features[('CM', 'communities_weighted_coverage_E')]\n",
    "feature3 = h.features[('CM', 'communities_weighted_performance_N')]\n",
    "feature4 = h.features[('CM', 'communities_performance_N')]\n",
    "feature5 = h.features[('Cns', 'connectance')]\n",
    "\n",
    "top_features = pd.concat([feature1, feature2, feature3, feature4, feature5], axis=1)"
   ]
  },
  {
   "cell_type": "code",
   "execution_count": 29,
   "metadata": {},
   "outputs": [
    {
     "name": "stdout",
     "output_type": "stream",
     "text": [
      "[0 0 0 0 0 0 0 0 0 0 0 0 0 0 0 0 0 0 0 0 0 0 0 0 0 0 0 0 0 0 0 0 0 0 0 0 0\n",
      " 0 0 0 0 0 0 0 0 0 0 0 0 0 1 1 1 1 1 1 1 1 1 1 1 1 1 1 1 1 1 1 1 1 1 1 1 1\n",
      " 1 1 1 1 1 1 1 1 1 1 1 1 1 1 1 1 1 1 1 1 1 1 1 1 1 1 2 2 2 2 2 2 2 2 2 2 2\n",
      " 2 2 2 2 2 2 2 2 2 2 2 2 2 2 2 2 2 2 2 2 2 2 2 2 2 2 2 2 2 2 2 2 2 2 2 2 2\n",
      " 2 2]\n"
     ]
    }
   ],
   "source": [
    "# substitute None terms in feature matrix with 0\n",
    "top_dropped = top_features.fillna(0)\n",
    "\n",
    "# do Hierarchical Clustering\n",
    "from sklearn.cluster import AgglomerativeClustering\n",
    "clustering = AgglomerativeClustering(n_clusters=3).fit(top_dropped)\n",
    "\n",
    "print(clustering.labels_)"
   ]
  },
  {
   "cell_type": "code",
   "execution_count": 30,
   "metadata": {},
   "outputs": [
    {
     "data": {
      "image/png": "[encoded data removed]",
      "text/plain": [
       "<Figure size 640x480 with 1 Axes>"
      ]
     },
     "metadata": {},
     "output_type": "display_data"
    }
   ],
   "source": [
    "# visuliasation\n",
    "from scipy.cluster.hierarchy import linkage, dendrogram\n",
    "linkage_top = linkage(top_dropped)\n",
    "\n",
    "%matplotlib inline\n",
    "dendrogram(linkage_top)\n",
    "plt.show()"
   ]
  },
  {
   "cell_type": "markdown",
   "metadata": {},
   "source": [
    "## Analyse by UMAP"
   ]
  },
  {
   "cell_type": "code",
   "execution_count": 12,
   "metadata": {},
   "outputs": [
    {
     "name": "stderr",
     "output_type": "stream",
     "text": [
      "OMP: Info #271: omp_set_nested routine deprecated, please use omp_set_max_active_levels instead.\n"
     ]
    },
    {
     "data": {
      "text/plain": [
       "<Axes: >"
      ]
     },
     "execution_count": 12,
     "metadata": {},
     "output_type": "execute_result"
    },
    {
     "data": {
      "image/png": "[encoded data removed]",
      "text/plain": [
       "<Figure size 800x800 with 1 Axes>"
      ]
     },
     "metadata": {},
     "output_type": "display_data"
    }
   ],
   "source": [
    "from umap import UMAP, plot\n",
    "map = UMAP().fit(h_dropped)\n",
    "\n",
    "%matplotlib inline\n",
    "plot.points(map)"
   ]
  },
  {
   "cell_type": "code",
   "execution_count": 3,
   "metadata": {},
   "outputs": [
    {
     "name": "stdout",
     "output_type": "stream",
     "text": [
      "[KNeighborsClassifier(), StandardScaler(), feature_class                                                   Cns  \\\n",
      "feature_name                                            connectance   \n",
      "name                                                    connectance   \n",
      "shortname                                                       Cns   \n",
      "fullname                                            Cns_connectance   \n",
      "description       ratio of number of edges to maximum possible n...   \n",
      "interpretability                                                  3   \n",
      "\n",
      "feature_class                                                        \\\n",
      "feature_name                                          connectance_N   \n",
      "name                                                  connectance_N   \n",
      "shortname                                                       Cns   \n",
      "fullname                                          Cns_connectance_N   \n",
      "description       ratio of number of edges to maximum possible n...   \n",
      "interpretability                                                  2   \n",
      "\n",
      "feature_class                                                        \\\n",
      "feature_name                                          connectance_E   \n",
      "name                                                  connectance_E   \n",
      "shortname                                                       Cns   \n",
      "fullname                                          Cns_connectance_E   \n",
      "description       ratio of number of edges to maximum possible n...   \n",
      "interpretability                                                  2   \n",
      "\n",
      "feature_class                       EF                         \\\n",
      "feature_name          local_efficiency      global_efficiency   \n",
      "name                  local_efficiency      global_efficiency   \n",
      "shortname                           EF                     EF   \n",
      "fullname           EF_local_efficiency   EF_global_efficiency   \n",
      "description       The local efficiency  The global efficiency   \n",
      "interpretability                     4                      4   \n",
      "\n",
      "feature_class                                                        \\\n",
      "feature_name                                     local_efficiency_N   \n",
      "name                                             local_efficiency_N   \n",
      "shortname                                                        EF   \n",
      "fullname                                      EF_local_efficiency_N   \n",
      "description       The local efficiency, normalised by the number...   \n",
      "interpretability                                                  3   \n",
      "\n",
      "feature_class                                                        \\\n",
      "feature_name                                     local_efficiency_E   \n",
      "name                                             local_efficiency_E   \n",
      "shortname                                                        EF   \n",
      "fullname                                      EF_local_efficiency_E   \n",
      "description       The local efficiency, normalised by the number...   \n",
      "interpretability                                                  3   \n",
      "\n",
      "feature_class                                                        \\\n",
      "feature_name                                    global_efficiency_N   \n",
      "name                                            global_efficiency_N   \n",
      "shortname                                                        EF   \n",
      "fullname                                     EF_global_efficiency_N   \n",
      "description       The global efficiency, normalised by the numbe...   \n",
      "interpretability                                                  3   \n",
      "\n",
      "feature_class                                                        \\\n",
      "feature_name                                    global_efficiency_E   \n",
      "name                                            global_efficiency_E   \n",
      "shortname                                                        EF   \n",
      "fullname                                     EF_global_efficiency_E   \n",
      "description       The global efficiency, normalised by the numbe...   \n",
      "interpretability                                                  3   \n",
      "\n",
      "feature_class                                                    RC  ...  \\\n",
      "feature_name                                          rich_club_k_1  ...   \n",
      "name                                                  rich_club_k_1  ...   \n",
      "shortname                                                        RC  ...   \n",
      "fullname                                           RC_rich_club_k_1  ...   \n",
      "description       The rich-club coefficient is the ratio of the ...  ...   \n",
      "interpretability                                                  4  ...   \n",
      "\n",
      "feature_class                                                    DM  \\\n",
      "feature_name                                     eccentricity_min_N   \n",
      "name                                             eccentricity_min_N   \n",
      "shortname                                                        DM   \n",
      "fullname                                      DM_eccentricity_min_N   \n",
      "description       Minimum of the distribution of The distributio...   \n",
      "interpretability                                                  2   \n",
      "\n",
      "feature_class                                                        \\\n",
      "feature_name                                     eccentricity_min_E   \n",
      "name                                             eccentricity_min_E   \n",
      "shortname                                                        DM   \n",
      "fullname                                      DM_eccentricity_min_E   \n",
      "description       Minimum of the distribution of The distributio...   \n",
      "interpretability                                                  2   \n",
      "\n",
      "feature_class                                                        \\\n",
      "feature_name                                     eccentricity_sum_N   \n",
      "name                                             eccentricity_sum_N   \n",
      "shortname                                                        DM   \n",
      "fullname                                      DM_eccentricity_sum_N   \n",
      "description       Sum of the distribution of The distribution of...   \n",
      "interpretability                                                  2   \n",
      "\n",
      "feature_class                                                        \\\n",
      "feature_name                                     eccentricity_sum_E   \n",
      "name                                             eccentricity_sum_E   \n",
      "shortname                                                        DM   \n",
      "fullname                                      DM_eccentricity_sum_E   \n",
      "description       Sum of the distribution of The distribution of...   \n",
      "interpretability                                                  2   \n",
      "\n",
      "feature_class                                                        \\\n",
      "feature_name                                     eccentricity_max_N   \n",
      "name                                             eccentricity_max_N   \n",
      "shortname                                                        DM   \n",
      "fullname                                      DM_eccentricity_max_N   \n",
      "description       Maximum of the distribution of The distributio...   \n",
      "interpretability                                                  2   \n",
      "\n",
      "feature_class                                                        \\\n",
      "feature_name                                     eccentricity_max_E   \n",
      "name                                             eccentricity_max_E   \n",
      "shortname                                                        DM   \n",
      "fullname                                      DM_eccentricity_max_E   \n",
      "description       Maximum of the distribution of The distributio...   \n",
      "interpretability                                                  2   \n",
      "\n",
      "feature_class                                                        \\\n",
      "feature_name                                  eccentricity_median_N   \n",
      "name                                          eccentricity_median_N   \n",
      "shortname                                                        DM   \n",
      "fullname                                   DM_eccentricity_median_N   \n",
      "description       Median of the distribution of The distribution...   \n",
      "interpretability                                                  2   \n",
      "\n",
      "feature_class                                                        \\\n",
      "feature_name                                  eccentricity_median_E   \n",
      "name                                          eccentricity_median_E   \n",
      "shortname                                                        DM   \n",
      "fullname                                   DM_eccentricity_median_E   \n",
      "description       Median of the distribution of The distribution...   \n",
      "interpretability                                                  2   \n",
      "\n",
      "feature_class                                                        \\\n",
      "feature_name                                     eccentricity_std_N   \n",
      "name                                             eccentricity_std_N   \n",
      "shortname                                                        DM   \n",
      "fullname                                      DM_eccentricity_std_N   \n",
      "description       Standard deviation of the distribution of The ...   \n",
      "interpretability                                                  2   \n",
      "\n",
      "feature_class                                                        \n",
      "feature_name                                     eccentricity_std_E  \n",
      "name                                             eccentricity_std_E  \n",
      "shortname                                                        DM  \n",
      "fullname                                      DM_eccentricity_std_E  \n",
      "description       Standard deviation of the distribution of The ...  \n",
      "interpretability                                                  2  \n",
      "\n",
      "[5 rows x 956 columns]]\n"
     ]
    }
   ],
   "source": [
    "import pickle\n",
    "\n",
    "with open('/Users/cherylshi/group_project/M2R_Group4/results/labelled_graph/fitted_model/model.pkl', 'rb') as file:\n",
    "    loaded_data = pickle.load(file)\n",
    "\n",
    "print(loaded_data)"
   ]
  }
 ],
 "metadata": {
  "kernelspec": {
   "display_name": "PoP_venv",
   "language": "python",
   "name": "python3"
  },
  "language_info": {
   "codemirror_mode": {
    "name": "ipython",
    "version": 3
   },
   "file_extension": ".py",
   "mimetype": "text/x-python",
   "name": "python",
   "nbconvert_exporter": "python",
   "pygments_lexer": "ipython3",
   "version": "3.9.7"
  }
 },
 "nbformat": 4,
 "nbformat_minor": 2
}
