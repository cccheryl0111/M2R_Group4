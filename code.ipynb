{
 "cells": [
  {
   "cell_type": "code",
   "execution_count": 1,
   "metadata": {},
   "outputs": [],
   "source": [
    "import numpy as np\n",
    "import networkx as nx\n",
    "import pandas as pd\n",
    "import scipy as sc\n",
    "import matplotlib.pyplot as plt\n",
    "import seaborn as sns\n",
    "import os\n",
    "from pathlib import Path\n",
    "from hcga.io import save_dataset\n",
    "from hcga.graph import Graph, GraphCollection\n",
    "\n",
    "if not Path(\"datasets\").exists():\n",
    "    os.mkdir(\"datasets\")\n",
    "if not Path(\"results\").exists():\n",
    "    os.mkdir(\"results\")\n"
   ]
  },
  {
   "cell_type": "markdown",
   "metadata": {},
   "source": [
    "# Generate labelled random graphs"
   ]
  },
  {
   "cell_type": "code",
   "execution_count": 2,
   "metadata": {},
   "outputs": [],
   "source": [
    "# defining number of nodes\n",
    "n = 100\n",
    "\n",
    "# number of graphs\n",
    "num_g = 50\n",
    "\n",
    "# number of node features\n",
    "n_nf = 3\n",
    "\n",
    "# empty list of graphs and labels\n",
    "graphs = []\n",
    "labels = []\n",
    "node_features = []\n",
    "\n",
    "# setting probability of edge existing for random graphs\n",
    "p = 0.6\n",
    "\n",
    "# setting number of edges to add per node\n",
    "m = 4"
   ]
  },
  {
   "cell_type": "code",
   "execution_count": 3,
   "metadata": {},
   "outputs": [],
   "source": [
    "# adding 50 random graphs (label 0)\n",
    "for i in range(num_g):\n",
    "    \n",
    "    g = nx.fast_gnp_random_graph(n, p)\n",
    "    node_feat_matrix = np.random.random((n, n_nf))\n",
    "\n",
    "    graphs.append(g)\n",
    "    node_features.append(node_feat_matrix)\n",
    "\n",
    "    labels.append(0)"
   ]
  },
  {
   "cell_type": "code",
   "execution_count": 4,
   "metadata": {},
   "outputs": [],
   "source": [
    "# adding 50 powerlaw cluster graphs (label 1)\n",
    "for i in range(num_g):\n",
    "    \n",
    "    g = nx.powerlaw_cluster_graph(n, m, p)\n",
    "    node_feat_matrix = np.random.random((n, n_nf))\n",
    "\n",
    "    graphs.append(g)\n",
    "    node_features.append(node_feat_matrix)\n",
    "\n",
    "    labels.append(1)"
   ]
  },
  {
   "cell_type": "code",
   "execution_count": 5,
   "metadata": {},
   "outputs": [],
   "source": [
    "# adding 50 watts strogatz graphs (label 2)\n",
    "for i in range(num_g):\n",
    "    \n",
    "    g = nx.watts_strogatz_graph(n, m, p)\n",
    "    node_feat_matrix = np.random.random((n, n_nf))\n",
    "\n",
    "    graphs.append(g)\n",
    "    node_features.append(node_feat_matrix)\n",
    "\n",
    "    labels.append(2)"
   ]
  },
  {
   "cell_type": "code",
   "execution_count": 6,
   "metadata": {},
   "outputs": [],
   "source": [
    "# create graph collection object\n",
    "g_c = GraphCollection()\n",
    "\n",
    "# add graphs, node features and labels to the object\n",
    "g_c.add_graph_list(graphs, node_features, labels)"
   ]
  },
  {
   "cell_type": "code",
   "execution_count": 7,
   "metadata": {},
   "outputs": [
    {
     "name": "stdout",
     "output_type": "stream",
     "text": [
      "There are 150 graphs\n",
      "There are 3 features per node\n"
     ]
    }
   ],
   "source": [
    "# perform some sanity checks\n",
    "\n",
    "print(\"There are {} graphs\".format(len(g_c.graphs)))\n",
    "print(\"There are {} features per node\".format(g_c.get_n_node_features()))"
   ]
  },
  {
   "cell_type": "code",
   "execution_count": 8,
   "metadata": {},
   "outputs": [],
   "source": [
    "# we can save this if we want to and run everything from the command line\n",
    "\n",
    "save_dataset(\n",
    "    g_c,\n",
    "    \"labelled_graph_dataset\",\n",
    "    folder=\"./datasets/labelled_graph\",\n",
    ")"
   ]
  },
  {
   "cell_type": "markdown",
   "metadata": {},
   "source": [
    "## Extracting features and generate feature matrix"
   ]
  },
  {
   "cell_type": "code",
   "execution_count": 9,
   "metadata": {},
   "outputs": [],
   "source": [
    "# import hcga object\n",
    "from hcga.hcga import Hcga\n",
    "\n",
    "# define an object\n",
    "h = Hcga()"
   ]
  },
  {
   "cell_type": "code",
   "execution_count": 10,
   "metadata": {},
   "outputs": [],
   "source": [
    "# load previously saved dataset\n",
    "h.load_data(\n",
    "    \"./datasets/labelled_graph/labelled_graph_dataset.pkl\"\n",
    ")"
   ]
  },
  {
   "cell_type": "code",
   "execution_count": 11,
   "metadata": {},
   "outputs": [
    {
     "name": "stderr",
     "output_type": "stream",
     "text": [
      "INFO:hcga.extraction:Setting up feature classes...\n",
      "100%|██████████| 43/43 [00:04<00:00,  9.36it/s]\n",
      "INFO:hcga.extraction:Extracting features from 150 graphs (we disabled 0 graphs).\n",
      "INFO:hcga.extraction:Computing features for 150 graphs:\n",
      "100%|██████████| 150/150 [12:47<00:00,  5.12s/it]\n",
      "INFO:hcga.extraction:1264 feature extracted.\n"
     ]
    }
   ],
   "source": [
    "# extracting all features here\n",
    "h.extract(mode=\"fast\", n_workers=4, timeout=5)\n",
    "\n",
    "# saving all features into a pickle\n",
    "h.save_features(\"./results/labelled_graph/features.pkl\")"
   ]
  },
  {
   "cell_type": "code",
   "execution_count": 12,
   "metadata": {},
   "outputs": [
    {
     "data": {
      "text/html": [
       "<div>\n",
       "<style scoped>\n",
       "    .dataframe tbody tr th:only-of-type {\n",
       "        vertical-align: middle;\n",
       "    }\n",
       "\n",
       "    .dataframe tbody tr th {\n",
       "        vertical-align: top;\n",
       "    }\n",
       "\n",
       "    .dataframe thead tr th {\n",
       "        text-align: left;\n",
       "    }\n",
       "</style>\n",
       "<table border=\"1\" class=\"dataframe\">\n",
       "  <thead>\n",
       "    <tr>\n",
       "      <th>feature_class</th>\n",
       "      <th colspan=\"3\" halign=\"left\">Cns</th>\n",
       "      <th colspan=\"6\" halign=\"left\">EF</th>\n",
       "      <th>RC</th>\n",
       "      <th>...</th>\n",
       "      <th colspan=\"9\" halign=\"left\">DM</th>\n",
       "      <th>label</th>\n",
       "    </tr>\n",
       "    <tr>\n",
       "      <th>feature_name</th>\n",
       "      <th>connectance</th>\n",
       "      <th>connectance_N</th>\n",
       "      <th>connectance_E</th>\n",
       "      <th>local_efficiency</th>\n",
       "      <th>global_efficiency</th>\n",
       "      <th>local_efficiency_N</th>\n",
       "      <th>local_efficiency_E</th>\n",
       "      <th>global_efficiency_N</th>\n",
       "      <th>global_efficiency_E</th>\n",
       "      <th>rich_club_k_1</th>\n",
       "      <th>...</th>\n",
       "      <th>eccentricity_min_E</th>\n",
       "      <th>eccentricity_sum_N</th>\n",
       "      <th>eccentricity_sum_E</th>\n",
       "      <th>eccentricity_max_N</th>\n",
       "      <th>eccentricity_max_E</th>\n",
       "      <th>eccentricity_median_N</th>\n",
       "      <th>eccentricity_median_E</th>\n",
       "      <th>eccentricity_std_N</th>\n",
       "      <th>eccentricity_std_E</th>\n",
       "      <th></th>\n",
       "    </tr>\n",
       "  </thead>\n",
       "  <tbody>\n",
       "    <tr>\n",
       "      <th>0</th>\n",
       "      <td>0.599798</td>\n",
       "      <td>0.005998</td>\n",
       "      <td>0.000202</td>\n",
       "      <td>0.800517</td>\n",
       "      <td>0.799899</td>\n",
       "      <td>0.008005</td>\n",
       "      <td>0.000270</td>\n",
       "      <td>0.007999</td>\n",
       "      <td>0.000269</td>\n",
       "      <td>0.599798</td>\n",
       "      <td>...</td>\n",
       "      <td>0.000674</td>\n",
       "      <td>2.00</td>\n",
       "      <td>0.067363</td>\n",
       "      <td>0.02</td>\n",
       "      <td>0.000674</td>\n",
       "      <td>0.02</td>\n",
       "      <td>0.000674</td>\n",
       "      <td>0.000000</td>\n",
       "      <td>0.000000</td>\n",
       "      <td>0.0</td>\n",
       "    </tr>\n",
       "    <tr>\n",
       "      <th>1</th>\n",
       "      <td>0.605253</td>\n",
       "      <td>0.006053</td>\n",
       "      <td>0.000202</td>\n",
       "      <td>0.804603</td>\n",
       "      <td>0.802626</td>\n",
       "      <td>0.008046</td>\n",
       "      <td>0.000269</td>\n",
       "      <td>0.008026</td>\n",
       "      <td>0.000268</td>\n",
       "      <td>0.605253</td>\n",
       "      <td>...</td>\n",
       "      <td>0.000668</td>\n",
       "      <td>2.00</td>\n",
       "      <td>0.066756</td>\n",
       "      <td>0.02</td>\n",
       "      <td>0.000668</td>\n",
       "      <td>0.02</td>\n",
       "      <td>0.000668</td>\n",
       "      <td>0.000000</td>\n",
       "      <td>0.000000</td>\n",
       "      <td>0.0</td>\n",
       "    </tr>\n",
       "    <tr>\n",
       "      <th>2</th>\n",
       "      <td>0.587273</td>\n",
       "      <td>0.005873</td>\n",
       "      <td>0.000202</td>\n",
       "      <td>0.794064</td>\n",
       "      <td>0.793636</td>\n",
       "      <td>0.007941</td>\n",
       "      <td>0.000273</td>\n",
       "      <td>0.007936</td>\n",
       "      <td>0.000273</td>\n",
       "      <td>0.587273</td>\n",
       "      <td>...</td>\n",
       "      <td>0.000688</td>\n",
       "      <td>2.00</td>\n",
       "      <td>0.068799</td>\n",
       "      <td>0.02</td>\n",
       "      <td>0.000688</td>\n",
       "      <td>0.02</td>\n",
       "      <td>0.000688</td>\n",
       "      <td>0.000000</td>\n",
       "      <td>0.000000</td>\n",
       "      <td>0.0</td>\n",
       "    </tr>\n",
       "    <tr>\n",
       "      <th>3</th>\n",
       "      <td>0.606869</td>\n",
       "      <td>0.006069</td>\n",
       "      <td>0.000202</td>\n",
       "      <td>0.803079</td>\n",
       "      <td>0.803434</td>\n",
       "      <td>0.008031</td>\n",
       "      <td>0.000267</td>\n",
       "      <td>0.008034</td>\n",
       "      <td>0.000267</td>\n",
       "      <td>0.606869</td>\n",
       "      <td>...</td>\n",
       "      <td>0.000666</td>\n",
       "      <td>2.00</td>\n",
       "      <td>0.066578</td>\n",
       "      <td>0.02</td>\n",
       "      <td>0.000666</td>\n",
       "      <td>0.02</td>\n",
       "      <td>0.000666</td>\n",
       "      <td>0.000000</td>\n",
       "      <td>0.000000</td>\n",
       "      <td>0.0</td>\n",
       "    </tr>\n",
       "    <tr>\n",
       "      <th>4</th>\n",
       "      <td>0.603636</td>\n",
       "      <td>0.006036</td>\n",
       "      <td>0.000202</td>\n",
       "      <td>0.802876</td>\n",
       "      <td>0.801818</td>\n",
       "      <td>0.008029</td>\n",
       "      <td>0.000269</td>\n",
       "      <td>0.008018</td>\n",
       "      <td>0.000268</td>\n",
       "      <td>0.603636</td>\n",
       "      <td>...</td>\n",
       "      <td>0.000669</td>\n",
       "      <td>2.00</td>\n",
       "      <td>0.066934</td>\n",
       "      <td>0.02</td>\n",
       "      <td>0.000669</td>\n",
       "      <td>0.02</td>\n",
       "      <td>0.000669</td>\n",
       "      <td>0.000000</td>\n",
       "      <td>0.000000</td>\n",
       "      <td>0.0</td>\n",
       "    </tr>\n",
       "    <tr>\n",
       "      <th>...</th>\n",
       "      <td>...</td>\n",
       "      <td>...</td>\n",
       "      <td>...</td>\n",
       "      <td>...</td>\n",
       "      <td>...</td>\n",
       "      <td>...</td>\n",
       "      <td>...</td>\n",
       "      <td>...</td>\n",
       "      <td>...</td>\n",
       "      <td>...</td>\n",
       "      <td>...</td>\n",
       "      <td>...</td>\n",
       "      <td>...</td>\n",
       "      <td>...</td>\n",
       "      <td>...</td>\n",
       "      <td>...</td>\n",
       "      <td>...</td>\n",
       "      <td>...</td>\n",
       "      <td>...</td>\n",
       "      <td>...</td>\n",
       "      <td>...</td>\n",
       "    </tr>\n",
       "    <tr>\n",
       "      <th>145</th>\n",
       "      <td>0.040404</td>\n",
       "      <td>0.000404</td>\n",
       "      <td>0.000202</td>\n",
       "      <td>0.086976</td>\n",
       "      <td>0.326572</td>\n",
       "      <td>0.000870</td>\n",
       "      <td>0.000435</td>\n",
       "      <td>0.003266</td>\n",
       "      <td>0.001633</td>\n",
       "      <td>0.040404</td>\n",
       "      <td>...</td>\n",
       "      <td>0.025000</td>\n",
       "      <td>5.48</td>\n",
       "      <td>2.740000</td>\n",
       "      <td>0.06</td>\n",
       "      <td>0.030000</td>\n",
       "      <td>0.05</td>\n",
       "      <td>0.025000</td>\n",
       "      <td>0.004996</td>\n",
       "      <td>0.002498</td>\n",
       "      <td>2.0</td>\n",
       "    </tr>\n",
       "    <tr>\n",
       "      <th>146</th>\n",
       "      <td>0.040404</td>\n",
       "      <td>0.000404</td>\n",
       "      <td>0.000202</td>\n",
       "      <td>0.065762</td>\n",
       "      <td>0.323323</td>\n",
       "      <td>0.000658</td>\n",
       "      <td>0.000329</td>\n",
       "      <td>0.003233</td>\n",
       "      <td>0.001617</td>\n",
       "      <td>0.040404</td>\n",
       "      <td>...</td>\n",
       "      <td>0.025000</td>\n",
       "      <td>5.48</td>\n",
       "      <td>2.740000</td>\n",
       "      <td>0.06</td>\n",
       "      <td>0.030000</td>\n",
       "      <td>0.05</td>\n",
       "      <td>0.025000</td>\n",
       "      <td>0.004996</td>\n",
       "      <td>0.002498</td>\n",
       "      <td>2.0</td>\n",
       "    </tr>\n",
       "    <tr>\n",
       "      <th>147</th>\n",
       "      <td>0.040404</td>\n",
       "      <td>0.000404</td>\n",
       "      <td>0.000202</td>\n",
       "      <td>0.059500</td>\n",
       "      <td>0.327313</td>\n",
       "      <td>0.000595</td>\n",
       "      <td>0.000298</td>\n",
       "      <td>0.003273</td>\n",
       "      <td>0.001637</td>\n",
       "      <td>0.040404</td>\n",
       "      <td>...</td>\n",
       "      <td>0.025000</td>\n",
       "      <td>5.32</td>\n",
       "      <td>2.660000</td>\n",
       "      <td>0.06</td>\n",
       "      <td>0.030000</td>\n",
       "      <td>0.05</td>\n",
       "      <td>0.025000</td>\n",
       "      <td>0.004665</td>\n",
       "      <td>0.002332</td>\n",
       "      <td>2.0</td>\n",
       "    </tr>\n",
       "    <tr>\n",
       "      <th>148</th>\n",
       "      <td>0.040404</td>\n",
       "      <td>0.000404</td>\n",
       "      <td>0.000202</td>\n",
       "      <td>0.063520</td>\n",
       "      <td>0.327112</td>\n",
       "      <td>0.000635</td>\n",
       "      <td>0.000318</td>\n",
       "      <td>0.003271</td>\n",
       "      <td>0.001636</td>\n",
       "      <td>0.040404</td>\n",
       "      <td>...</td>\n",
       "      <td>0.020000</td>\n",
       "      <td>5.52</td>\n",
       "      <td>2.760000</td>\n",
       "      <td>0.07</td>\n",
       "      <td>0.035000</td>\n",
       "      <td>0.06</td>\n",
       "      <td>0.030000</td>\n",
       "      <td>0.005913</td>\n",
       "      <td>0.002956</td>\n",
       "      <td>2.0</td>\n",
       "    </tr>\n",
       "    <tr>\n",
       "      <th>149</th>\n",
       "      <td>0.040404</td>\n",
       "      <td>0.000404</td>\n",
       "      <td>0.000202</td>\n",
       "      <td>0.059619</td>\n",
       "      <td>0.327697</td>\n",
       "      <td>0.000596</td>\n",
       "      <td>0.000298</td>\n",
       "      <td>0.003277</td>\n",
       "      <td>0.001638</td>\n",
       "      <td>0.040404</td>\n",
       "      <td>...</td>\n",
       "      <td>0.025000</td>\n",
       "      <td>5.37</td>\n",
       "      <td>2.685000</td>\n",
       "      <td>0.06</td>\n",
       "      <td>0.030000</td>\n",
       "      <td>0.05</td>\n",
       "      <td>0.025000</td>\n",
       "      <td>0.004828</td>\n",
       "      <td>0.002414</td>\n",
       "      <td>2.0</td>\n",
       "    </tr>\n",
       "  </tbody>\n",
       "</table>\n",
       "<p>150 rows × 1264 columns</p>\n",
       "</div>"
      ],
      "text/plain": [
       "feature_class         Cns                                           EF  \\\n",
       "feature_name  connectance connectance_N connectance_E local_efficiency   \n",
       "0                0.599798      0.005998      0.000202         0.800517   \n",
       "1                0.605253      0.006053      0.000202         0.804603   \n",
       "2                0.587273      0.005873      0.000202         0.794064   \n",
       "3                0.606869      0.006069      0.000202         0.803079   \n",
       "4                0.603636      0.006036      0.000202         0.802876   \n",
       "..                    ...           ...           ...              ...   \n",
       "145              0.040404      0.000404      0.000202         0.086976   \n",
       "146              0.040404      0.000404      0.000202         0.065762   \n",
       "147              0.040404      0.000404      0.000202         0.059500   \n",
       "148              0.040404      0.000404      0.000202         0.063520   \n",
       "149              0.040404      0.000404      0.000202         0.059619   \n",
       "\n",
       "feature_class                                                          \\\n",
       "feature_name  global_efficiency local_efficiency_N local_efficiency_E   \n",
       "0                      0.799899           0.008005           0.000270   \n",
       "1                      0.802626           0.008046           0.000269   \n",
       "2                      0.793636           0.007941           0.000273   \n",
       "3                      0.803434           0.008031           0.000267   \n",
       "4                      0.801818           0.008029           0.000269   \n",
       "..                          ...                ...                ...   \n",
       "145                    0.326572           0.000870           0.000435   \n",
       "146                    0.323323           0.000658           0.000329   \n",
       "147                    0.327313           0.000595           0.000298   \n",
       "148                    0.327112           0.000635           0.000318   \n",
       "149                    0.327697           0.000596           0.000298   \n",
       "\n",
       "feature_class                                                    RC  ...  \\\n",
       "feature_name  global_efficiency_N global_efficiency_E rich_club_k_1  ...   \n",
       "0                        0.007999            0.000269      0.599798  ...   \n",
       "1                        0.008026            0.000268      0.605253  ...   \n",
       "2                        0.007936            0.000273      0.587273  ...   \n",
       "3                        0.008034            0.000267      0.606869  ...   \n",
       "4                        0.008018            0.000268      0.603636  ...   \n",
       "..                            ...                 ...           ...  ...   \n",
       "145                      0.003266            0.001633      0.040404  ...   \n",
       "146                      0.003233            0.001617      0.040404  ...   \n",
       "147                      0.003273            0.001637      0.040404  ...   \n",
       "148                      0.003271            0.001636      0.040404  ...   \n",
       "149                      0.003277            0.001638      0.040404  ...   \n",
       "\n",
       "feature_class                 DM                                        \\\n",
       "feature_name  eccentricity_min_E eccentricity_sum_N eccentricity_sum_E   \n",
       "0                       0.000674               2.00           0.067363   \n",
       "1                       0.000668               2.00           0.066756   \n",
       "2                       0.000688               2.00           0.068799   \n",
       "3                       0.000666               2.00           0.066578   \n",
       "4                       0.000669               2.00           0.066934   \n",
       "..                           ...                ...                ...   \n",
       "145                     0.025000               5.48           2.740000   \n",
       "146                     0.025000               5.48           2.740000   \n",
       "147                     0.025000               5.32           2.660000   \n",
       "148                     0.020000               5.52           2.760000   \n",
       "149                     0.025000               5.37           2.685000   \n",
       "\n",
       "feature_class                                                              \\\n",
       "feature_name  eccentricity_max_N eccentricity_max_E eccentricity_median_N   \n",
       "0                           0.02           0.000674                  0.02   \n",
       "1                           0.02           0.000668                  0.02   \n",
       "2                           0.02           0.000688                  0.02   \n",
       "3                           0.02           0.000666                  0.02   \n",
       "4                           0.02           0.000669                  0.02   \n",
       "..                           ...                ...                   ...   \n",
       "145                         0.06           0.030000                  0.05   \n",
       "146                         0.06           0.030000                  0.05   \n",
       "147                         0.06           0.030000                  0.05   \n",
       "148                         0.07           0.035000                  0.06   \n",
       "149                         0.06           0.030000                  0.05   \n",
       "\n",
       "feature_class                                                              \\\n",
       "feature_name  eccentricity_median_E eccentricity_std_N eccentricity_std_E   \n",
       "0                          0.000674           0.000000           0.000000   \n",
       "1                          0.000668           0.000000           0.000000   \n",
       "2                          0.000688           0.000000           0.000000   \n",
       "3                          0.000666           0.000000           0.000000   \n",
       "4                          0.000669           0.000000           0.000000   \n",
       "..                              ...                ...                ...   \n",
       "145                        0.025000           0.004996           0.002498   \n",
       "146                        0.025000           0.004996           0.002498   \n",
       "147                        0.025000           0.004665           0.002332   \n",
       "148                        0.030000           0.005913           0.002956   \n",
       "149                        0.025000           0.004828           0.002414   \n",
       "\n",
       "feature_class label  \n",
       "feature_name         \n",
       "0               0.0  \n",
       "1               0.0  \n",
       "2               0.0  \n",
       "3               0.0  \n",
       "4               0.0  \n",
       "..              ...  \n",
       "145             2.0  \n",
       "146             2.0  \n",
       "147             2.0  \n",
       "148             2.0  \n",
       "149             2.0  \n",
       "\n",
       "[150 rows x 1264 columns]"
      ]
     },
     "execution_count": 12,
     "metadata": {},
     "output_type": "execute_result"
    }
   ],
   "source": [
    "h.features"
   ]
  },
  {
   "cell_type": "markdown",
   "metadata": {},
   "source": [
    "## Classification and analysis"
   ]
  },
  {
   "cell_type": "code",
   "execution_count": 13,
   "metadata": {},
   "outputs": [],
   "source": [
    "# load the saved features\n",
    "\n",
    "h.load_features(\"./results/labelled_graph/features.pkl\")"
   ]
  },
  {
   "cell_type": "code",
   "execution_count": 14,
   "metadata": {},
   "outputs": [
    {
     "name": "stderr",
     "output_type": "stream",
     "text": [
      "INFO:hcga.analysis:1264 total features\n",
      "INFO:hcga.analysis:0 graphs were removed for more than 0.3 fraction of bad features\n",
      "INFO:hcga.analysis:957 valid features\n",
      "INFO:hcga.analysis:957 with interpretability 1\n",
      "INFO:hcga.analysis:Counts of graphs/label: \n",
      "label\n",
      "0.0    50\n",
      "1.0    50\n",
      "2.0    50\n",
      "Name: count, dtype: int64\n",
      "INFO:hcga.analysis:Using 10 splits\n",
      "INFO:hcga.analysis:Fold accuracy: --- 1.0 ---\n",
      "INFO:hcga.analysis:Fold accuracy: --- 1.0 ---\n",
      "INFO:hcga.analysis:Fold accuracy: --- 1.0 ---\n",
      "INFO:hcga.analysis:Fold accuracy: --- 1.0 ---\n",
      "INFO:hcga.analysis:Fold accuracy: --- 1.0 ---\n",
      "INFO:hcga.analysis:Fold accuracy: --- 1.0 ---\n",
      "INFO:hcga.analysis:Fold accuracy: --- 1.0 ---\n",
      "INFO:hcga.analysis:Fold accuracy: --- 1.0 ---\n",
      "INFO:hcga.analysis:Fold accuracy: --- 1.0 ---\n",
      "INFO:hcga.analysis:Fold accuracy: --- 1.0 ---\n",
      "INFO:hcga.analysis:Accuracy: 1.0 +/- 0.0\n",
      "INFO:hcga.analysis:Fitting model to all data\n"
     ]
    }
   ],
   "source": [
    "# implement a classification analyse of the features\n",
    "\n",
    "from sklearn.neighbors import KNeighborsClassifier\n",
    "\n",
    "model = KNeighborsClassifier()\n",
    "h.analyse_features(\n",
    "    compute_shap=False,\n",
    "    model=model,\n",
    "    feature_file=\"./results/labelled_graph/features.pkl\",\n",
    "    results_folder=\"./results/labelled_graph\",\n",
    "    save_model = True, # save the trained model\n",
    "    plot=False,\n",
    ")"
   ]
  },
  {
   "cell_type": "code",
   "execution_count": 15,
   "metadata": {},
   "outputs": [
    {
     "name": "stderr",
     "output_type": "stream",
     "text": [
      "INFO:hcga.analysis:1264 total features\n",
      "INFO:hcga.analysis:0 graphs were removed for more than 0.3 fraction of bad features\n",
      "INFO:hcga.analysis:957 valid features\n",
      "INFO:hcga.analysis:957 with interpretability 1\n",
      "INFO:hcga.analysis:... Using Xgboost classifier ...\n",
      "  0%|          | 0/3 [00:00<?, ?it/s]INFO:hcga.analysis:Pairwise classification between classes 0.0 and 1.0\n",
      "INFO:hcga.analysis:Counts of graphs/label: \n",
      "label\n",
      "0    50\n",
      "1    50\n",
      "Name: count, dtype: int64\n",
      "INFO:hcga.analysis:Using 10 splits\n",
      "INFO:hcga.analysis:Fold accuracy: --- 1.0 ---\n",
      "INFO:hcga.analysis:Fold accuracy: --- 1.0 ---\n",
      "INFO:hcga.analysis:Fold accuracy: --- 1.0 ---\n",
      "INFO:hcga.analysis:Fold accuracy: --- 0.9 ---\n",
      "INFO:hcga.analysis:Fold accuracy: --- 1.0 ---\n",
      "INFO:hcga.analysis:Fold accuracy: --- 1.0 ---\n",
      "INFO:hcga.analysis:Fold accuracy: --- 1.0 ---\n",
      "INFO:hcga.analysis:Fold accuracy: --- 1.0 ---\n",
      "INFO:hcga.analysis:Fold accuracy: --- 1.0 ---\n",
      "INFO:hcga.analysis:Fold accuracy: --- 1.0 ---\n",
      "INFO:hcga.analysis:Accuracy: 0.99 +/- 0.03\n",
      " 33%|███▎      | 1/3 [00:04<00:09,  4.93s/it]INFO:hcga.analysis:Pairwise classification between classes 0.0 and 2.0\n",
      "INFO:hcga.analysis:Counts of graphs/label: \n",
      "label\n",
      "0    50\n",
      "1    50\n",
      "Name: count, dtype: int64\n",
      "INFO:hcga.analysis:Using 10 splits\n",
      "INFO:hcga.analysis:Fold accuracy: --- 1.0 ---\n",
      "INFO:hcga.analysis:Fold accuracy: --- 1.0 ---\n",
      "INFO:hcga.analysis:Fold accuracy: --- 1.0 ---\n",
      "INFO:hcga.analysis:Fold accuracy: --- 0.9 ---\n",
      "INFO:hcga.analysis:Fold accuracy: --- 1.0 ---\n",
      "INFO:hcga.analysis:Fold accuracy: --- 1.0 ---\n",
      "INFO:hcga.analysis:Fold accuracy: --- 1.0 ---\n",
      "INFO:hcga.analysis:Fold accuracy: --- 1.0 ---\n",
      "INFO:hcga.analysis:Fold accuracy: --- 1.0 ---\n",
      "INFO:hcga.analysis:Fold accuracy: --- 1.0 ---\n",
      "INFO:hcga.analysis:Accuracy: 0.99 +/- 0.03\n",
      " 67%|██████▋   | 2/3 [00:09<00:04,  4.93s/it]INFO:hcga.analysis:Pairwise classification between classes 1.0 and 2.0\n",
      "INFO:hcga.analysis:Counts of graphs/label: \n",
      "label\n",
      "0    50\n",
      "1    50\n",
      "Name: count, dtype: int64\n",
      "INFO:hcga.analysis:Using 10 splits\n",
      "INFO:hcga.analysis:Fold accuracy: --- 1.0 ---\n",
      "INFO:hcga.analysis:Fold accuracy: --- 1.0 ---\n",
      "INFO:hcga.analysis:Fold accuracy: --- 1.0 ---\n",
      "INFO:hcga.analysis:Fold accuracy: --- 1.0 ---\n",
      "INFO:hcga.analysis:Fold accuracy: --- 1.0 ---\n",
      "INFO:hcga.analysis:Fold accuracy: --- 1.0 ---\n",
      "INFO:hcga.analysis:Fold accuracy: --- 1.0 ---\n",
      "INFO:hcga.analysis:Fold accuracy: --- 0.9 ---\n",
      "INFO:hcga.analysis:Fold accuracy: --- 1.0 ---\n",
      "INFO:hcga.analysis:Fold accuracy: --- 1.0 ---\n",
      "INFO:hcga.analysis:Accuracy: 0.99 +/- 0.03\n",
      "100%|██████████| 3/3 [00:14<00:00,  4.92s/it]\n"
     ]
    }
   ],
   "source": [
    "accuracy_matrix, top_features = h.pairwise_classification(\n",
    "    feature_file=\"./results/labelled_graph/features.pkl\"\n",
    ")"
   ]
  },
  {
   "cell_type": "code",
   "execution_count": 16,
   "metadata": {},
   "outputs": [
    {
     "name": "stdout",
     "output_type": "stream",
     "text": [
      "['CM_communities_weighted_coverage_N', 'CM_communities_weighted_coverage_E', 'CM_communities_weighted_performance_N', 'CM_communities_performance_N', 'Cns_connectance']\n",
      "['CM_communities_weighted_coverage_N', 'CM_communities_weighted_coverage_E', 'CM_communities_weighted_performance_N', 'CM_communities_performance_N', 'Cns_connectance']\n",
      "['CM_communities_weighted_coverage_N', 'CM_communities_weighted_coverage_E', 'CM_communities_weighted_performance_N', 'CM_communities_performance_N', 'Cns_connectance']\n"
     ]
    }
   ],
   "source": [
    "# find top features pairwisely\n",
    "print(top_features[(0.0, 1.0)])\n",
    "print(top_features[(0.0, 2.0)])\n",
    "print(top_features[(1.0, 2.0)])"
   ]
  },
  {
   "cell_type": "markdown",
   "metadata": {},
   "source": [
    "# Generate unlabelled random graphs\n",
    "Here we need to restart the kernel to ensure the extract feature step run successfully."
   ]
  },
  {
   "cell_type": "code",
   "execution_count": 2,
   "metadata": {},
   "outputs": [],
   "source": [
    "# defining limits on number of nodes\n",
    "n = 100\n",
    "\n",
    "# number of graphs\n",
    "num_g = 50\n",
    "\n",
    "# number of node features\n",
    "n_nf = 3\n",
    "\n",
    "\n",
    "# empty list of graphs and labels\n",
    "graphs = []\n",
    "node_features = []\n",
    "\n",
    "\n",
    "# setting limits on probability of edge existing for random graphs\n",
    "p = 0.6\n",
    "\n",
    "# adding 20 random graphs (label 0)\n",
    "for i in range(num_g):\n",
    "\n",
    "    g = nx.fast_gnp_random_graph(n, p)\n",
    "\n",
    "    node_feat_matrix = np.random.random((n, n_nf))\n",
    "\n",
    "    for i, node in enumerate(g.nodes):\n",
    "        g.nodes[node][\"features\"] = node_feat_matrix[i, :]\n",
    "\n",
    "    # graphs.append(g)\n",
    "\n",
    "    graphs.append(nx.to_numpy_array(g) * 2)\n",
    "\n",
    "    node_features.append(node_feat_matrix)\n",
    "\n",
    "\n",
    "# setting limits on number of edges to add per node\n",
    "m = 4\n",
    "\n",
    "# adding 20 powerlaw cluster graphs (label 1)\n",
    "for i in range(num_g):\n",
    "\n",
    "    g = nx.powerlaw_cluster_graph(n, m, p)\n",
    "\n",
    "    node_feat_matrix = np.random.random((n, n_nf))\n",
    "\n",
    "    for i, node in enumerate(g.nodes):\n",
    "        g.nodes[node][\"features\"] = node_feat_matrix[i, :]\n",
    "\n",
    "    # graphs.append(g)\n",
    "\n",
    "    graphs.append(nx.to_numpy_array(g) * 2)\n",
    "    node_features.append(node_feat_matrix)\n",
    "\n",
    "\n",
    "# adding 20 watts strogatz graphs (label 2)\n",
    "for i in range(num_g):\n",
    "\n",
    "    g = nx.watts_strogatz_graph(n, m, p)\n",
    "\n",
    "    node_feat_matrix = np.random.random((n, n_nf))\n",
    "\n",
    "    for i, node in enumerate(g.nodes):\n",
    "        g.nodes[node][\"features\"] = node_feat_matrix[i, :]\n",
    "\n",
    "    # graphs.append(g)\n",
    "\n",
    "    graphs.append(nx.to_numpy_array(g) * 2)\n",
    "    node_features.append(node_feat_matrix)"
   ]
  },
  {
   "cell_type": "code",
   "execution_count": 3,
   "metadata": {},
   "outputs": [
    {
     "name": "stdout",
     "output_type": "stream",
     "text": [
      "There are 150 graphs in the unlabelled dataset\n",
      "There are 3 features per node\n"
     ]
    }
   ],
   "source": [
    "# create graph collection object\n",
    "graphs_unlabelled = GraphCollection()\n",
    "graphs_unlabelled.add_graph_list(graphs, node_features)  # loaded without the labels\n",
    "\n",
    "# save the unlabelled dataset\n",
    "save_dataset(\n",
    "    graphs_unlabelled, \"unlabelled_graph_dataset\", folder=\"./datasets/unlabelled_graph\"\n",
    ")\n",
    "\n",
    "# perform some sanity checks\n",
    "print(\n",
    "    \"There are {} graphs in the unlabelled dataset\".format(\n",
    "        len(graphs_unlabelled.graphs)\n",
    "    )\n",
    ")\n",
    "print(\"There are {} features per node\".format(graphs_unlabelled.get_n_node_features()))"
   ]
  },
  {
   "cell_type": "markdown",
   "metadata": {},
   "source": [
    "## Extracting features and generate feature matrix"
   ]
  },
  {
   "cell_type": "code",
   "execution_count": 4,
   "metadata": {},
   "outputs": [],
   "source": [
    "# import hcga object\n",
    "from hcga.hcga import Hcga\n",
    "\n",
    "# define an object\n",
    "h = Hcga()"
   ]
  },
  {
   "cell_type": "code",
   "execution_count": 5,
   "metadata": {},
   "outputs": [],
   "source": [
    "# extract features for the secondary dataset with no labels\n",
    "h.load_data(\n",
    "    \"./datasets/unlabelled_graph/unlabelled_graph_dataset.pkl\"\n",
    ")"
   ]
  },
  {
   "cell_type": "code",
   "execution_count": 6,
   "metadata": {},
   "outputs": [
    {
     "name": "stderr",
     "output_type": "stream",
     "text": [
      "INFO:hcga.extraction:Setting up feature classes...\n",
      "100%|██████████| 43/43 [00:04<00:00,  9.89it/s]\n",
      "INFO:hcga.extraction:Extracting features from 150 graphs (we disabled 0 graphs).\n",
      "INFO:hcga.extraction:Computing features for 150 graphs:\n",
      "100%|██████████| 150/150 [15:03<00:00,  6.03s/it]\n",
      "INFO:hcga.extraction:1264 feature extracted.\n"
     ]
    }
   ],
   "source": [
    "# extracting all features here\n",
    "h.extract(mode=\"fast\", n_workers=4, timeout=5)\n",
    "\n",
    "# saving all features into a pickle\n",
    "h.save_features(\"./results/unlabelled_graph/features.pkl\")"
   ]
  },
  {
   "cell_type": "markdown",
   "metadata": {},
   "source": [
    "## Analyse by kNN trained model"
   ]
  },
  {
   "cell_type": "code",
   "execution_count": 8,
   "metadata": {},
   "outputs": [
    {
     "name": "stderr",
     "output_type": "stream",
     "text": [
      "INFO:hcga.analysis:1264 total features\n",
      "INFO:hcga.analysis:0 graphs were removed for more than 0.3 fraction of bad features\n",
      "INFO:hcga.analysis:956 valid features\n",
      "INFO:hcga.analysis:956 with interpretability 1\n"
     ]
    }
   ],
   "source": [
    "h.analyse_features(\n",
    "    plot=False,\n",
    "    trained_model=\"./results/labelled_graph/fitted_model\",\n",
    "    results_folder=\"./results/kNN_test\",\n",
    ")"
   ]
  },
  {
   "cell_type": "markdown",
   "metadata": {},
   "source": [
    "## Analyse by Hierarchical Clustering"
   ]
  },
  {
   "cell_type": "code",
   "execution_count": 9,
   "metadata": {},
   "outputs": [
    {
     "name": "stdout",
     "output_type": "stream",
     "text": [
      "[1 0 1 1 1 1 1 1 1 1 1 1 0 1 1 0 0 1 0 0 1 1 0 0 1 1 0 0 1 0 1 1 0 1 0 1 1\n",
      " 0 1 1 1 1 1 1 1 0 1 1 1 1 2 2 2 2 2 2 2 2 2 2 2 2 2 2 2 2 2 2 2 2 2 2 2 2\n",
      " 2 2 2 2 2 2 2 2 2 2 2 2 2 2 2 2 2 2 2 2 2 2 2 2 2 2 2 2 2 2 2 2 2 2 2 2 2\n",
      " 2 2 2 2 2 2 2 2 2 2 2 2 2 2 2 2 2 2 2 2 2 2 2 2 2 2 2 2 2 2 2 2 2 2 2 2 2\n",
      " 2 2]\n"
     ]
    }
   ],
   "source": [
    "# substitute None terms in feature matrix with 0\n",
    "h_dropped = h.features.fillna(0)\n",
    "\n",
    "# do Hierarchical Clustering\n",
    "from sklearn.cluster import AgglomerativeClustering\n",
    "clustering = AgglomerativeClustering(n_clusters=3).fit(h_dropped)\n",
    "\n",
    "print(clustering.labels_)"
   ]
  },
  {
   "cell_type": "code",
   "execution_count": 10,
   "metadata": {},
   "outputs": [
    {
     "data": {
      "image/png": "[encoded data removed]",
      "text/plain": [
       "<Figure size 640x480 with 1 Axes>"
      ]
     },
     "metadata": {},
     "output_type": "display_data"
    }
   ],
   "source": [
    "# visuliasation\n",
    "from scipy.cluster.hierarchy import linkage, dendrogram\n",
    "linkage_data = linkage(h_dropped)\n",
    "\n",
    "%matplotlib inline\n",
    "dendrogram(linkage_data)\n",
    "plt.show()"
   ]
  },
  {
   "cell_type": "markdown",
   "metadata": {},
   "source": [
    "## Analyse by UMAP"
   ]
  },
  {
   "cell_type": "code",
   "execution_count": 12,
   "metadata": {},
   "outputs": [
    {
     "name": "stderr",
     "output_type": "stream",
     "text": [
      "OMP: Info #271: omp_set_nested routine deprecated, please use omp_set_max_active_levels instead.\n"
     ]
    },
    {
     "data": {
      "text/plain": [
       "<Axes: >"
      ]
     },
     "execution_count": 12,
     "metadata": {},
     "output_type": "execute_result"
    },
    {
     "data": {
      "image/png": "[encoded data removed]",
      "text/plain": [
       "<Figure size 800x800 with 1 Axes>"
      ]
     },
     "metadata": {},
     "output_type": "display_data"
    }
   ],
   "source": [
    "from umap import UMAP, plot\n",
    "map = UMAP().fit(h_dropped)\n",
    "\n",
    "%matplotlib inline\n",
    "plot.points(map)"
   ]
  }
 ],
 "metadata": {
  "kernelspec": {
   "display_name": "PoP_venv",
   "language": "python",
   "name": "python3"
  },
  "language_info": {
   "codemirror_mode": {
    "name": "ipython",
    "version": 3
   },
   "file_extension": ".py",
   "mimetype": "text/x-python",
   "name": "python",
   "nbconvert_exporter": "python",
   "pygments_lexer": "ipython3",
   "version": "3.9.7"
  }
 },
 "nbformat": 4,
 "nbformat_minor": 2
}
